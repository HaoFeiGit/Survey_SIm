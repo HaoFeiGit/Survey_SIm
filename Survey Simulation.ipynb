{
 "cells": [
  {
   "cell_type": "markdown",
   "metadata": {},
   "source": [
    "# Agent survey simulation"
   ]
  },
  {
   "cell_type": "markdown",
   "metadata": {},
   "source": [
    "### Assumptions:\n",
    "###### 1. No prior knowledge of agents (Vasily)\n",
    "###### 2. Agents' attributes follows standard distritution (1~100)\n",
    "###### 3. Initial items' attributes are uniformly distributed (1~100) (not following standard distribution)\n",
    "\n"
   ]
  },
  {
   "cell_type": "code",
   "execution_count": 63,
   "metadata": {},
   "outputs": [],
   "source": [
    "import numpy as np\n",
    "import pandas as pd\n",
    "import seaborn as sns\n",
    "import matplotlib.pyplot as plt\n",
    "import random\n",
    "import plotly.express as px"
   ]
  },
  {
   "cell_type": "code",
   "execution_count": 76,
   "metadata": {},
   "outputs": [],
   "source": [
    "class Agent():\n",
    "    def __init__(self):\n",
    "        self.attr = np.random.randn()*16+50\n",
    "    def choose(self,item):\n",
    "        self.choice = item"
   ]
  },
  {
   "cell_type": "code",
   "execution_count": 77,
   "metadata": {},
   "outputs": [],
   "source": [
    "class Item():\n",
    "    def __init__(self):\n",
    "        self.attr = np.random.rand()*100\n",
    "        "
   ]
  },
  {
   "cell_type": "code",
   "execution_count": 107,
   "metadata": {},
   "outputs": [],
   "source": [
    "number_of_agents = 100\n",
    "max_items_per_questionaire = 30\n",
    "initial_no_of_items = 5"
   ]
  },
  {
   "cell_type": "markdown",
   "metadata": {},
   "source": [
    "### Thompson Sampling "
   ]
  },
  {
   "cell_type": "code",
   "execution_count": 108,
   "metadata": {},
   "outputs": [],
   "source": [
    "number_of_checks = np.zeros(initial_no_of_items)  #[0,0,0,0,0]\n",
    "number_of_ignores = np.zeros(initial_no_of_items) #[0,0,0,0,0]\n",
    "item_list = [] #list that holds ALL possible items, the whole database\n",
    "diff_list = []\n",
    "agent_list = []\n",
    "beta_list = []\n",
    "max_beta_index = []\n",
    "chosen_attr_list = []\n",
    "agent_attr_list = []\n",
    "\n",
    "#prep the initial questionaire\n",
    "for i in range(initial_no_of_items):\n",
    "    init_item = Item()\n",
    "    item_list.append(init_item)\n",
    "\n",
    "for each_agent in range(number_of_agents):\n",
    "    agent = Agent() # give a random attr in the __init__ method\n",
    "    if len(item_list) <= max_items_per_questionaire: # if the items in the questionaire are less than 30, ask all items:\n",
    "        for item in item_list:#item_list is a list of items\n",
    "            diff_list.append(abs(agent.attr - item.attr))\n",
    "        idx_min = np.argmin(diff_list)\n",
    "        \n",
    "        number_of_checks[idx_min] += 1\n",
    "        for rest in range(len(item_list)): # b += 1 for those ignored items\n",
    "            if rest != idx_min:\n",
    "                number_of_ignores += 1        \n",
    "        \n",
    "        \n",
    "    else:\n",
    "        for count,item in enumerate(item_list): #get beta value for each item in current round\n",
    "            a = number_of_checks[count]+1\n",
    "            b = number_of_ignores[count]+1\n",
    "            item_beta = np.random.beta(a,b) #thompson sampling\n",
    "            beta_list.append(item_beta) # beta_list consists of beta value for each item in current round\n",
    "        for i in range(max_items_per_questionaire):#get the largest 30 beta index\n",
    "            max_beta_index.append(np.argmax(beta_list)) # max_beta_index contains the index of items of largest 30 beta value\n",
    "            beta_list[max_beta_index[-1]] = -1 #make the largest smallest to expose the next largest number\n",
    "        for i in max_beta_index:\n",
    "            diff_list.append(abs(agent.attr - item_list[i].attr))\n",
    "        idx_min = max_beta_index[np.argmin(diff_list)] # np.argmin(diff_list) is just the index in the max_beta_index\n",
    "                                                  # the value of max_beta_index returns the index of item whose attr is closest\n",
    "\n",
    "        number_of_checks[idx_min] += 1\n",
    "        for rest in max_beta_index: # b += 1 for those ignored items\n",
    "            if rest != idx_min:\n",
    "                number_of_ignores += 1\n",
    "\n",
    "    chosen_attr_list.append(item_list[idx_min].attr)\n",
    "    agent_attr_list.append(agent.attr)\n",
    "    \n",
    "    #register agenct choice       \n",
    "    agent.choose(item_list[idx_min])\n",
    "    #add agent to agent list\n",
    "    agent_list.append(agent)       \n",
    "            \n",
    "\n",
    "    #agent add new item     \n",
    "    new_item = Item()\n",
    "    new_item.attr = agent.attr\n",
    "    item_list.append(new_item)     \n",
    "    number_of_checks = np.append(number_of_checks,0) #[1,0,0,0,0,0]\n",
    "    number_of_ignores = np.append(number_of_ignores,0)#[0,1,1,1,1,0]\n",
    "    diff_list = []\n",
    "    max_beta_index = []\n",
    "    beta_list = []\n",
    "   "
   ]
  },
  {
   "cell_type": "code",
   "execution_count": 109,
   "metadata": {},
   "outputs": [
    {
     "data": {
      "text/plain": [
       "<seaborn.axisgrid.FacetGrid at 0x7ffbaa074fd0>"
      ]
     },
     "execution_count": 109,
     "metadata": {},
     "output_type": "execute_result"
    },
    {
     "data": {
      "image/png": "[encoded data removed]",
      "text/plain": [
       "<Figure size 360x360 with 1 Axes>"
      ]
     },
     "metadata": {
      "needs_background": "light"
     },
     "output_type": "display_data"
    }
   ],
   "source": [
    "# attributes of chosen items\n",
    "sns.displot(chosen_attr_list)"
   ]
  },
  {
   "cell_type": "code",
   "execution_count": 110,
   "metadata": {
    "scrolled": false
   },
   "outputs": [
    {
     "data": {
      "text/plain": [
       "<seaborn.axisgrid.FacetGrid at 0x7ffba55b7a90>"
      ]
     },
     "execution_count": 110,
     "metadata": {},
     "output_type": "execute_result"
    },
    {
     "data": {
      "image/png": "[encoded data removed]",
      "text/plain": [
       "<Figure size 360x360 with 1 Axes>"
      ]
     },
     "metadata": {
      "needs_background": "light"
     },
     "output_type": "display_data"
    }
   ],
   "source": [
    "# attributes of agents\n",
    "sns.displot(agent_attr_list)"
   ]
  },
  {
   "cell_type": "code",
   "execution_count": 111,
   "metadata": {
    "scrolled": false
   },
   "outputs": [
    {
     "data": {
      "application/vnd.plotly.v1+json": {
       "config": {
        "plotlyServerURL": "https://plot.ly"
       },
       "data": [
        {
         "hovertemplate": "x=%{x}<br>y=%{y}<extra></extra>",
         "legendgroup": "",
         "marker": {
          "color": "#636efa",
          "opacity": 0.65,
          "symbol": "circle"
         },
         "mode": "markers",
         "name": "",
         "orientation": "v",
         "showlegend": false,
         "type": "scatter",
         "x": [
          72.03917714761951,
          64.92936779403806,
          79.08827354738301,
          43.79769770231589,
          68.45868433733419,
          47.885289143480044,
          55.361160560866594,
          9.499278744543396,
          52.731388874966385,
          47.77916756613431,
          49.40807078264014,
          40.57717912906741,
          59.888941662368,
          54.79531520361778,
          0.3347817060122651,
          65.14607138388791,
          38.51549830477913,
          72.41963252986992,
          28.245122688872144,
          38.326062704631724,
          61.207135195533034,
          59.9911682858613,
          57.72924799805599,
          59.68845076657182,
          92.26432168936333,
          58.74311841707218,
          55.53148188691249,
          53.45214897009506,
          53.607267551108755,
          42.619547603672146,
          56.67563343510206,
          45.41159354366652,
          70.83451922976445,
          72.66965499274072,
          56.503379417776564,
          49.176030500850224,
          48.100252450972924,
          57.43540234651327,
          51.62863059998113,
          47.98489954241688,
          50.080257517296104,
          76.54611905983757,
          78.62255596802535,
          61.290004828708625,
          74.42110608532946,
          45.79638792881335,
          74.65023948343182,
          40.33186582751338,
          27.139382198989004,
          16.437916251837365,
          69.04194015891699,
          30.579670097546604,
          41.66670481023224,
          57.84395537528735,
          61.827490238224904,
          42.633469342009384,
          64.79563578176418,
          61.117111163401404,
          52.27055299938664,
          45.13085142883621,
          55.07047018863625,
          38.81618953201635,
          47.56603061670175,
          45.78724900250806,
          32.705767867533595,
          29.498565518550137,
          45.37698178358616,
          75.81521051765783,
          44.97147064207167,
          37.4986265433334,
          24.84272467973443,
          42.10667583772245,
          36.407627881638454,
          53.23472284707927,
          77.52551016399012,
          11.570742202237184,
          71.04180652161082,
          59.03842631683243,
          59.41813646448599,
          41.08883899023265,
          40.479862682142226,
          18.234223340610846,
          12.6579612053566,
          78.31550887915364,
          46.4255035078442,
          21.545086175612784,
          61.0661276738175,
          41.19042369740793,
          49.448590491812354,
          44.727404780792995,
          40.23471121495906,
          47.00730117436339,
          56.10529944235015,
          29.45275960296271,
          60.26264236139901,
          25.96416364050436,
          41.08463988442349,
          54.81218198883647,
          56.30483895677055,
          56.60582395841642
         ],
         "xaxis": "x",
         "y": [
          79.59812309298633,
          72.03917714761951,
          79.59812309298633,
          56.354149171757584,
          64.92936779403806,
          43.79769770231589,
          56.354149171757584,
          3.7917921924416564,
          55.361160560866594,
          47.885289143480044,
          47.885289143480044,
          43.79769770231589,
          56.354149171757584,
          55.361160560866594,
          1.2884960467745787,
          64.92936779403806,
          40.57717912906741,
          72.03917714761951,
          24.912521849914437,
          38.51549830477913,
          59.888941662368,
          59.888941662368,
          56.354149171757584,
          59.888941662368,
          79.59812309298633,
          59.68845076657182,
          55.361160560866594,
          52.731388874966385,
          53.45214897009506,
          43.79769770231589,
          56.354149171757584,
          43.79769770231589,
          72.03917714761951,
          72.41963252986992,
          56.354149171757584,
          49.40807078264014,
          47.885289143480044,
          57.72924799805599,
          52.731388874966385,
          47.885289143480044,
          49.176030500850224,
          72.66965499274072,
          79.08827354738301,
          59.888941662368,
          72.66965499274072,
          47.885289143480044,
          74.42110608532946,
          38.51549830477913,
          28.245122688872144,
          27.139382198989004,
          70.83451922976445,
          27.139382198989004,
          42.619547603672146,
          57.43540234651327,
          61.290004828708625,
          41.66670481023224,
          61.827490238224904,
          61.207135195533034,
          52.731388874966385,
          43.79769770231589,
          55.53148188691249,
          38.51549830477913,
          47.885289143480044,
          45.79638792881335,
          30.579670097546604,
          27.139382198989004,
          45.78724900250806,
          72.03917714761951,
          45.78724900250806,
          38.326062704631724,
          27.139382198989004,
          41.66670481023224,
          37.4986265433334,
          52.27055299938664,
          78.62255596802535,
          24.84272467973443,
          70.83451922976445,
          59.888941662368,
          59.03842631683243,
          41.66670481023224,
          41.08883899023265,
          24.84272467973443,
          11.570742202237184,
          78.62255596802535,
          45.78724900250806,
          24.84272467973443,
          61.827490238224904,
          41.08883899023265,
          47.56603061670175,
          45.13085142883621,
          40.479862682142226,
          47.56603061670175,
          56.354149171757584,
          28.245122688872144,
          59.888941662368,
          24.84272467973443,
          41.08883899023265,
          55.07047018863625,
          56.354149171757584,
          56.354149171757584
         ],
         "yaxis": "y"
        },
        {
         "hovertemplate": "<b>OLS trendline</b><br>y = 0.948401 * x + 2.77565<br>R<sup>2</sup>=0.965540<br><br>x=%{x}<br>y=%{y} <b>(trend)</b><extra></extra>",
         "legendgroup": "",
         "line": {
          "color": "darkblue"
         },
         "marker": {
          "color": "#636efa",
          "symbol": "circle"
         },
         "mode": "lines",
         "name": "",
         "showlegend": false,
         "type": "scatter",
         "x": [
          0.3347817060122651,
          9.499278744543396,
          11.570742202237184,
          12.6579612053566,
          16.437916251837365,
          18.234223340610846,
          21.545086175612784,
          24.84272467973443,
          25.96416364050436,
          27.139382198989004,
          28.245122688872144,
          29.45275960296271,
          29.498565518550137,
          30.579670097546604,
          32.705767867533595,
          36.407627881638454,
          37.4986265433334,
          38.326062704631724,
          38.51549830477913,
          38.81618953201635,
          40.23471121495906,
          40.33186582751338,
          40.479862682142226,
          40.57717912906741,
          41.08463988442349,
          41.08883899023265,
          41.19042369740793,
          41.66670481023224,
          42.10667583772245,
          42.619547603672146,
          42.633469342009384,
          43.79769770231589,
          44.727404780792995,
          44.97147064207167,
          45.13085142883621,
          45.37698178358616,
          45.41159354366652,
          45.78724900250806,
          45.79638792881335,
          46.4255035078442,
          47.00730117436339,
          47.56603061670175,
          47.77916756613431,
          47.885289143480044,
          47.98489954241688,
          48.100252450972924,
          49.176030500850224,
          49.40807078264014,
          49.448590491812354,
          50.080257517296104,
          51.62863059998113,
          52.27055299938664,
          52.731388874966385,
          53.23472284707927,
          53.45214897009506,
          53.607267551108755,
          54.79531520361778,
          54.81218198883647,
          55.07047018863625,
          55.361160560866594,
          55.53148188691249,
          56.10529944235015,
          56.30483895677055,
          56.503379417776564,
          56.60582395841642,
          56.67563343510206,
          57.43540234651327,
          57.72924799805599,
          57.84395537528735,
          58.74311841707218,
          59.03842631683243,
          59.41813646448599,
          59.68845076657182,
          59.888941662368,
          59.9911682858613,
          60.26264236139901,
          61.0661276738175,
          61.117111163401404,
          61.207135195533034,
          61.290004828708625,
          61.827490238224904,
          64.79563578176418,
          64.92936779403806,
          65.14607138388791,
          68.45868433733419,
          69.04194015891699,
          70.83451922976445,
          71.04180652161082,
          72.03917714761951,
          72.41963252986992,
          72.66965499274072,
          74.42110608532946,
          74.65023948343182,
          75.81521051765783,
          76.54611905983757,
          77.52551016399012,
          78.31550887915364,
          78.62255596802535,
          79.08827354738301,
          92.26432168936333
         ],
         "xaxis": "x",
         "y": [
          3.0931565953245945,
          11.784774342935073,
          13.749352265402665,
          14.780471806750311,
          18.36538478441087,
          20.069004143694823,
          23.209029619792208,
          26.336513127847468,
          27.4000869097265,
          28.514665313462174,
          29.56335065055299,
          30.708674653719612,
          30.752117027828234,
          31.777437643495617,
          33.79383079994273,
          37.304678374281664,
          38.339382547433644,
          39.12412379338726,
          39.30378469756432,
          39.58896054477314,
          40.934287864210106,
          41.02642939158351,
          41.166789749917896,
          41.25908476116326,
          41.74036102639904,
          41.74434346236051,
          41.8406864957052,
          42.2923919581731,
          42.70966090101748,
          43.19606897387023,
          43.20927236381087,
          44.313427653093754,
          45.195162734615025,
          45.42663503064575,
          45.57779192109446,
          45.811222184705876,
          45.84404801103608,
          46.20032000712341,
          46.20898737356318,
          46.805641189807865,
          47.35741865261635,
          47.887318189571076,
          48.089457476055756,
          48.19010328140487,
          48.284573878929855,
          48.39397468761896,
          49.41424361798046,
          49.63431084293414,
          49.67273977382784,
          50.27181338432626,
          51.740291895346054,
          52.349091712270415,
          52.78614889697834,
          53.263511317043324,
          53.46971845985245,
          53.61683307029472,
          54.74357859906074,
          54.759575074277606,
          55.00453584975055,
          55.28022687651548,
          55.44175978487182,
          55.98596890270594,
          56.17521236883334,
          56.36350833174799,
          56.46066683197201,
          56.5268742063605,
          57.24743976786816,
          57.526123264547664,
          57.63491185071167,
          58.48767893865052,
          58.767749232936644,
          59.12786669976737,
          59.38423304213881,
          59.574378799272,
          59.67133062666602,
          59.928796899287335,
          60.69082313727936,
          60.73917592751318,
          60.82455480560076,
          60.903148444882724,
          61.41290012081126,
          64.22789219023439,
          64.35472375844991,
          64.56024565011411,
          67.70193094021626,
          68.25509131868026,
          69.95517502220123,
          70.15176648784208,
          71.09767374249179,
          71.45849799052621,
          71.69561953319817,
          73.35669742284261,
          73.57400775652962,
          74.67886739846736,
          75.37206175822108,
          76.30091721716381,
          77.05015275343338,
          77.3413565058891,
          77.78304350312423,
          90.27922015010381
         ],
         "yaxis": "y"
        }
       ],
       "layout": {
        "legend": {
         "tracegroupgap": 0
        },
        "margin": {
         "t": 60
        },
        "template": {
         "data": {
          "bar": [
           {
            "error_x": {
             "color": "#2a3f5f"
            },
            "error_y": {
             "color": "#2a3f5f"
            },
            "marker": {
             "line": {
              "color": "#E5ECF6",
              "width": 0.5
             }
            },
            "type": "bar"
           }
          ],
          "barpolar": [
           {
            "marker": {
             "line": {
              "color": "#E5ECF6",
              "width": 0.5
             }
            },
            "type": "barpolar"
           }
          ],
          "carpet": [
           {
            "aaxis": {
             "endlinecolor": "#2a3f5f",
             "gridcolor": "white",
             "linecolor": "white",
             "minorgridcolor": "white",
             "startlinecolor": "#2a3f5f"
            },
            "baxis": {
             "endlinecolor": "#2a3f5f",
             "gridcolor": "white",
             "linecolor": "white",
             "minorgridcolor": "white",
             "startlinecolor": "#2a3f5f"
            },
            "type": "carpet"
           }
          ],
          "choropleth": [
           {
            "colorbar": {
             "outlinewidth": 0,
             "ticks": ""
            },
            "type": "choropleth"
           }
          ],
          "contour": [
           {
            "colorbar": {
             "outlinewidth": 0,
             "ticks": ""
            },
            "colorscale": [
             [
              0,
              "#0d0887"
             ],
             [
              0.1111111111111111,
              "#46039f"
             ],
             [
              0.2222222222222222,
              "#7201a8"
             ],
             [
              0.3333333333333333,
              "#9c179e"
             ],
             [
              0.4444444444444444,
              "#bd3786"
             ],
             [
              0.5555555555555556,
              "#d8576b"
             ],
             [
              0.6666666666666666,
              "#ed7953"
             ],
             [
              0.7777777777777778,
              "#fb9f3a"
             ],
             [
              0.8888888888888888,
              "#fdca26"
             ],
             [
              1,
              "#f0f921"
             ]
            ],
            "type": "contour"
           }
          ],
          "contourcarpet": [
           {
            "colorbar": {
             "outlinewidth": 0,
             "ticks": ""
            },
            "type": "contourcarpet"
           }
          ],
          "heatmap": [
           {
            "colorbar": {
             "outlinewidth": 0,
             "ticks": ""
            },
            "colorscale": [
             [
              0,
              "#0d0887"
             ],
             [
              0.1111111111111111,
              "#46039f"
             ],
             [
              0.2222222222222222,
              "#7201a8"
             ],
             [
              0.3333333333333333,
              "#9c179e"
             ],
             [
              0.4444444444444444,
              "#bd3786"
             ],
             [
              0.5555555555555556,
              "#d8576b"
             ],
             [
              0.6666666666666666,
              "#ed7953"
             ],
             [
              0.7777777777777778,
              "#fb9f3a"
             ],
             [
              0.8888888888888888,
              "#fdca26"
             ],
             [
              1,
              "#f0f921"
             ]
            ],
            "type": "heatmap"
           }
          ],
          "heatmapgl": [
           {
            "colorbar": {
             "outlinewidth": 0,
             "ticks": ""
            },
            "colorscale": [
             [
              0,
              "#0d0887"
             ],
             [
              0.1111111111111111,
              "#46039f"
             ],
             [
              0.2222222222222222,
              "#7201a8"
             ],
             [
              0.3333333333333333,
              "#9c179e"
             ],
             [
              0.4444444444444444,
              "#bd3786"
             ],
             [
              0.5555555555555556,
              "#d8576b"
             ],
             [
              0.6666666666666666,
              "#ed7953"
             ],
             [
              0.7777777777777778,
              "#fb9f3a"
             ],
             [
              0.8888888888888888,
              "#fdca26"
             ],
             [
              1,
              "#f0f921"
             ]
            ],
            "type": "heatmapgl"
           }
          ],
          "histogram": [
           {
            "marker": {
             "colorbar": {
              "outlinewidth": 0,
              "ticks": ""
             }
            },
            "type": "histogram"
           }
          ],
          "histogram2d": [
           {
            "colorbar": {
             "outlinewidth": 0,
             "ticks": ""
            },
            "colorscale": [
             [
              0,
              "#0d0887"
             ],
             [
              0.1111111111111111,
              "#46039f"
             ],
             [
              0.2222222222222222,
              "#7201a8"
             ],
             [
              0.3333333333333333,
              "#9c179e"
             ],
             [
              0.4444444444444444,
              "#bd3786"
             ],
             [
              0.5555555555555556,
              "#d8576b"
             ],
             [
              0.6666666666666666,
              "#ed7953"
             ],
             [
              0.7777777777777778,
              "#fb9f3a"
             ],
             [
              0.8888888888888888,
              "#fdca26"
             ],
             [
              1,
              "#f0f921"
             ]
            ],
            "type": "histogram2d"
           }
          ],
          "histogram2dcontour": [
           {
            "colorbar": {
             "outlinewidth": 0,
             "ticks": ""
            },
            "colorscale": [
             [
              0,
              "#0d0887"
             ],
             [
              0.1111111111111111,
              "#46039f"
             ],
             [
              0.2222222222222222,
              "#7201a8"
             ],
             [
              0.3333333333333333,
              "#9c179e"
             ],
             [
              0.4444444444444444,
              "#bd3786"
             ],
             [
              0.5555555555555556,
              "#d8576b"
             ],
             [
              0.6666666666666666,
              "#ed7953"
             ],
             [
              0.7777777777777778,
              "#fb9f3a"
             ],
             [
              0.8888888888888888,
              "#fdca26"
             ],
             [
              1,
              "#f0f921"
             ]
            ],
            "type": "histogram2dcontour"
           }
          ],
          "mesh3d": [
           {
            "colorbar": {
             "outlinewidth": 0,
             "ticks": ""
            },
            "type": "mesh3d"
           }
          ],
          "parcoords": [
           {
            "line": {
             "colorbar": {
              "outlinewidth": 0,
              "ticks": ""
             }
            },
            "type": "parcoords"
           }
          ],
          "pie": [
           {
            "automargin": true,
            "type": "pie"
           }
          ],
          "scatter": [
           {
            "marker": {
             "colorbar": {
              "outlinewidth": 0,
              "ticks": ""
             }
            },
            "type": "scatter"
           }
          ],
          "scatter3d": [
           {
            "line": {
             "colorbar": {
              "outlinewidth": 0,
              "ticks": ""
             }
            },
            "marker": {
             "colorbar": {
              "outlinewidth": 0,
              "ticks": ""
             }
            },
            "type": "scatter3d"
           }
          ],
          "scattercarpet": [
           {
            "marker": {
             "colorbar": {
              "outlinewidth": 0,
              "ticks": ""
             }
            },
            "type": "scattercarpet"
           }
          ],
          "scattergeo": [
           {
            "marker": {
             "colorbar": {
              "outlinewidth": 0,
              "ticks": ""
             }
            },
            "type": "scattergeo"
           }
          ],
          "scattergl": [
           {
            "marker": {
             "colorbar": {
              "outlinewidth": 0,
              "ticks": ""
             }
            },
            "type": "scattergl"
           }
          ],
          "scattermapbox": [
           {
            "marker": {
             "colorbar": {
              "outlinewidth": 0,
              "ticks": ""
             }
            },
            "type": "scattermapbox"
           }
          ],
          "scatterpolar": [
           {
            "marker": {
             "colorbar": {
              "outlinewidth": 0,
              "ticks": ""
             }
            },
            "type": "scatterpolar"
           }
          ],
          "scatterpolargl": [
           {
            "marker": {
             "colorbar": {
              "outlinewidth": 0,
              "ticks": ""
             }
            },
            "type": "scatterpolargl"
           }
          ],
          "scatterternary": [
           {
            "marker": {
             "colorbar": {
              "outlinewidth": 0,
              "ticks": ""
             }
            },
            "type": "scatterternary"
           }
          ],
          "surface": [
           {
            "colorbar": {
             "outlinewidth": 0,
             "ticks": ""
            },
            "colorscale": [
             [
              0,
              "#0d0887"
             ],
             [
              0.1111111111111111,
              "#46039f"
             ],
             [
              0.2222222222222222,
              "#7201a8"
             ],
             [
              0.3333333333333333,
              "#9c179e"
             ],
             [
              0.4444444444444444,
              "#bd3786"
             ],
             [
              0.5555555555555556,
              "#d8576b"
             ],
             [
              0.6666666666666666,
              "#ed7953"
             ],
             [
              0.7777777777777778,
              "#fb9f3a"
             ],
             [
              0.8888888888888888,
              "#fdca26"
             ],
             [
              1,
              "#f0f921"
             ]
            ],
            "type": "surface"
           }
          ],
          "table": [
           {
            "cells": {
             "fill": {
              "color": "#EBF0F8"
             },
             "line": {
              "color": "white"
             }
            },
            "header": {
             "fill": {
              "color": "#C8D4E3"
             },
             "line": {
              "color": "white"
             }
            },
            "type": "table"
           }
          ]
         },
         "layout": {
          "annotationdefaults": {
           "arrowcolor": "#2a3f5f",
           "arrowhead": 0,
           "arrowwidth": 1
          },
          "autotypenumbers": "strict",
          "coloraxis": {
           "colorbar": {
            "outlinewidth": 0,
            "ticks": ""
           }
          },
          "colorscale": {
           "diverging": [
            [
             0,
             "#8e0152"
            ],
            [
             0.1,
             "#c51b7d"
            ],
            [
             0.2,
             "#de77ae"
            ],
            [
             0.3,
             "#f1b6da"
            ],
            [
             0.4,
             "#fde0ef"
            ],
            [
             0.5,
             "#f7f7f7"
            ],
            [
             0.6,
             "#e6f5d0"
            ],
            [
             0.7,
             "#b8e186"
            ],
            [
             0.8,
             "#7fbc41"
            ],
            [
             0.9,
             "#4d9221"
            ],
            [
             1,
             "#276419"
            ]
           ],
           "sequential": [
            [
             0,
             "#0d0887"
            ],
            [
             0.1111111111111111,
             "#46039f"
            ],
            [
             0.2222222222222222,
             "#7201a8"
            ],
            [
             0.3333333333333333,
             "#9c179e"
            ],
            [
             0.4444444444444444,
             "#bd3786"
            ],
            [
             0.5555555555555556,
             "#d8576b"
            ],
            [
             0.6666666666666666,
             "#ed7953"
            ],
            [
             0.7777777777777778,
             "#fb9f3a"
            ],
            [
             0.8888888888888888,
             "#fdca26"
            ],
            [
             1,
             "#f0f921"
            ]
           ],
           "sequentialminus": [
            [
             0,
             "#0d0887"
            ],
            [
             0.1111111111111111,
             "#46039f"
            ],
            [
             0.2222222222222222,
             "#7201a8"
            ],
            [
             0.3333333333333333,
             "#9c179e"
            ],
            [
             0.4444444444444444,
             "#bd3786"
            ],
            [
             0.5555555555555556,
             "#d8576b"
            ],
            [
             0.6666666666666666,
             "#ed7953"
            ],
            [
             0.7777777777777778,
             "#fb9f3a"
            ],
            [
             0.8888888888888888,
             "#fdca26"
            ],
            [
             1,
             "#f0f921"
            ]
           ]
          },
          "colorway": [
           "#636efa",
           "#EF553B",
           "#00cc96",
           "#ab63fa",
           "#FFA15A",
           "#19d3f3",
           "#FF6692",
           "#B6E880",
           "#FF97FF",
           "#FECB52"
          ],
          "font": {
           "color": "#2a3f5f"
          },
          "geo": {
           "bgcolor": "white",
           "lakecolor": "white",
           "landcolor": "#E5ECF6",
           "showlakes": true,
           "showland": true,
           "subunitcolor": "white"
          },
          "hoverlabel": {
           "align": "left"
          },
          "hovermode": "closest",
          "mapbox": {
           "style": "light"
          },
          "paper_bgcolor": "white",
          "plot_bgcolor": "#E5ECF6",
          "polar": {
           "angularaxis": {
            "gridcolor": "white",
            "linecolor": "white",
            "ticks": ""
           },
           "bgcolor": "#E5ECF6",
           "radialaxis": {
            "gridcolor": "white",
            "linecolor": "white",
            "ticks": ""
           }
          },
          "scene": {
           "xaxis": {
            "backgroundcolor": "#E5ECF6",
            "gridcolor": "white",
            "gridwidth": 2,
            "linecolor": "white",
            "showbackground": true,
            "ticks": "",
            "zerolinecolor": "white"
           },
           "yaxis": {
            "backgroundcolor": "#E5ECF6",
            "gridcolor": "white",
            "gridwidth": 2,
            "linecolor": "white",
            "showbackground": true,
            "ticks": "",
            "zerolinecolor": "white"
           },
           "zaxis": {
            "backgroundcolor": "#E5ECF6",
            "gridcolor": "white",
            "gridwidth": 2,
            "linecolor": "white",
            "showbackground": true,
            "ticks": "",
            "zerolinecolor": "white"
           }
          },
          "shapedefaults": {
           "line": {
            "color": "#2a3f5f"
           }
          },
          "ternary": {
           "aaxis": {
            "gridcolor": "white",
            "linecolor": "white",
            "ticks": ""
           },
           "baxis": {
            "gridcolor": "white",
            "linecolor": "white",
            "ticks": ""
           },
           "bgcolor": "#E5ECF6",
           "caxis": {
            "gridcolor": "white",
            "linecolor": "white",
            "ticks": ""
           }
          },
          "title": {
           "x": 0.05
          },
          "xaxis": {
           "automargin": true,
           "gridcolor": "white",
           "linecolor": "white",
           "ticks": "",
           "title": {
            "standoff": 15
           },
           "zerolinecolor": "white",
           "zerolinewidth": 2
          },
          "yaxis": {
           "automargin": true,
           "gridcolor": "white",
           "linecolor": "white",
           "ticks": "",
           "title": {
            "standoff": 15
           },
           "zerolinecolor": "white",
           "zerolinewidth": 2
          }
         }
        },
        "xaxis": {
         "anchor": "y",
         "domain": [
          0,
          1
         ],
         "title": {
          "text": "x"
         }
        },
        "yaxis": {
         "anchor": "x",
         "domain": [
          0,
          1
         ],
         "title": {
          "text": "y"
         }
        }
       }
      },
      "text/html": [
       "<div>                            <div id=\"93d9fa63-4a86-41b5-8759-b72e505d569a\" class=\"plotly-graph-div\" style=\"height:525px; width:100%;\"></div>            <script type=\"text/javascript\">                require([\"plotly\"], function(Plotly) {                    window.PLOTLYENV=window.PLOTLYENV || {};                                    if (document.getElementById(\"93d9fa63-4a86-41b5-8759-b72e505d569a\")) {                    Plotly.newPlot(                        \"93d9fa63-4a86-41b5-8759-b72e505d569a\",                        [{\"hovertemplate\": \"x=%{x}<br>y=%{y}<extra></extra>\", \"legendgroup\": \"\", \"marker\": {\"color\": \"#636efa\", \"opacity\": 0.65, \"symbol\": \"circle\"}, \"mode\": \"markers\", \"name\": \"\", \"orientation\": \"v\", \"showlegend\": false, \"type\": \"scatter\", \"x\": [72.03917714761951, 64.92936779403806, 79.08827354738301, 43.79769770231589, 68.45868433733419, 47.885289143480044, 55.361160560866594, 9.499278744543396, 52.731388874966385, 47.77916756613431, 49.40807078264014, 40.57717912906741, 59.888941662368, 54.79531520361778, 0.3347817060122651, 65.14607138388791, 38.51549830477913, 72.41963252986992, 28.245122688872144, 38.326062704631724, 61.207135195533034, 59.9911682858613, 57.72924799805599, 59.68845076657182, 92.26432168936333, 58.74311841707218, 55.53148188691249, 53.45214897009506, 53.607267551108755, 42.619547603672146, 56.67563343510206, 45.41159354366652, 70.83451922976445, 72.66965499274072, 56.503379417776564, 49.176030500850224, 48.100252450972924, 57.43540234651327, 51.62863059998113, 47.98489954241688, 50.080257517296104, 76.54611905983757, 78.62255596802535, 61.290004828708625, 74.42110608532946, 45.79638792881335, 74.65023948343182, 40.33186582751338, 27.139382198989004, 16.437916251837365, 69.04194015891699, 30.579670097546604, 41.66670481023224, 57.84395537528735, 61.827490238224904, 42.633469342009384, 64.79563578176418, 61.117111163401404, 52.27055299938664, 45.13085142883621, 55.07047018863625, 38.81618953201635, 47.56603061670175, 45.78724900250806, 32.705767867533595, 29.498565518550137, 45.37698178358616, 75.81521051765783, 44.97147064207167, 37.4986265433334, 24.84272467973443, 42.10667583772245, 36.407627881638454, 53.23472284707927, 77.52551016399012, 11.570742202237184, 71.04180652161082, 59.03842631683243, 59.41813646448599, 41.08883899023265, 40.479862682142226, 18.234223340610846, 12.6579612053566, 78.31550887915364, 46.4255035078442, 21.545086175612784, 61.0661276738175, 41.19042369740793, 49.448590491812354, 44.727404780792995, 40.23471121495906, 47.00730117436339, 56.10529944235015, 29.45275960296271, 60.26264236139901, 25.96416364050436, 41.08463988442349, 54.81218198883647, 56.30483895677055, 56.60582395841642], \"xaxis\": \"x\", \"y\": [79.59812309298633, 72.03917714761951, 79.59812309298633, 56.354149171757584, 64.92936779403806, 43.79769770231589, 56.354149171757584, 3.7917921924416564, 55.361160560866594, 47.885289143480044, 47.885289143480044, 43.79769770231589, 56.354149171757584, 55.361160560866594, 1.2884960467745787, 64.92936779403806, 40.57717912906741, 72.03917714761951, 24.912521849914437, 38.51549830477913, 59.888941662368, 59.888941662368, 56.354149171757584, 59.888941662368, 79.59812309298633, 59.68845076657182, 55.361160560866594, 52.731388874966385, 53.45214897009506, 43.79769770231589, 56.354149171757584, 43.79769770231589, 72.03917714761951, 72.41963252986992, 56.354149171757584, 49.40807078264014, 47.885289143480044, 57.72924799805599, 52.731388874966385, 47.885289143480044, 49.176030500850224, 72.66965499274072, 79.08827354738301, 59.888941662368, 72.66965499274072, 47.885289143480044, 74.42110608532946, 38.51549830477913, 28.245122688872144, 27.139382198989004, 70.83451922976445, 27.139382198989004, 42.619547603672146, 57.43540234651327, 61.290004828708625, 41.66670481023224, 61.827490238224904, 61.207135195533034, 52.731388874966385, 43.79769770231589, 55.53148188691249, 38.51549830477913, 47.885289143480044, 45.79638792881335, 30.579670097546604, 27.139382198989004, 45.78724900250806, 72.03917714761951, 45.78724900250806, 38.326062704631724, 27.139382198989004, 41.66670481023224, 37.4986265433334, 52.27055299938664, 78.62255596802535, 24.84272467973443, 70.83451922976445, 59.888941662368, 59.03842631683243, 41.66670481023224, 41.08883899023265, 24.84272467973443, 11.570742202237184, 78.62255596802535, 45.78724900250806, 24.84272467973443, 61.827490238224904, 41.08883899023265, 47.56603061670175, 45.13085142883621, 40.479862682142226, 47.56603061670175, 56.354149171757584, 28.245122688872144, 59.888941662368, 24.84272467973443, 41.08883899023265, 55.07047018863625, 56.354149171757584, 56.354149171757584], \"yaxis\": \"y\"}, {\"hovertemplate\": \"<b>OLS trendline</b><br>y = 0.948401 * x + 2.77565<br>R<sup>2</sup>=0.965540<br><br>x=%{x}<br>y=%{y} <b>(trend)</b><extra></extra>\", \"legendgroup\": \"\", \"line\": {\"color\": \"darkblue\"}, \"marker\": {\"color\": \"#636efa\", \"symbol\": \"circle\"}, \"mode\": \"lines\", \"name\": \"\", \"showlegend\": false, \"type\": \"scatter\", \"x\": [0.3347817060122651, 9.499278744543396, 11.570742202237184, 12.6579612053566, 16.437916251837365, 18.234223340610846, 21.545086175612784, 24.84272467973443, 25.96416364050436, 27.139382198989004, 28.245122688872144, 29.45275960296271, 29.498565518550137, 30.579670097546604, 32.705767867533595, 36.407627881638454, 37.4986265433334, 38.326062704631724, 38.51549830477913, 38.81618953201635, 40.23471121495906, 40.33186582751338, 40.479862682142226, 40.57717912906741, 41.08463988442349, 41.08883899023265, 41.19042369740793, 41.66670481023224, 42.10667583772245, 42.619547603672146, 42.633469342009384, 43.79769770231589, 44.727404780792995, 44.97147064207167, 45.13085142883621, 45.37698178358616, 45.41159354366652, 45.78724900250806, 45.79638792881335, 46.4255035078442, 47.00730117436339, 47.56603061670175, 47.77916756613431, 47.885289143480044, 47.98489954241688, 48.100252450972924, 49.176030500850224, 49.40807078264014, 49.448590491812354, 50.080257517296104, 51.62863059998113, 52.27055299938664, 52.731388874966385, 53.23472284707927, 53.45214897009506, 53.607267551108755, 54.79531520361778, 54.81218198883647, 55.07047018863625, 55.361160560866594, 55.53148188691249, 56.10529944235015, 56.30483895677055, 56.503379417776564, 56.60582395841642, 56.67563343510206, 57.43540234651327, 57.72924799805599, 57.84395537528735, 58.74311841707218, 59.03842631683243, 59.41813646448599, 59.68845076657182, 59.888941662368, 59.9911682858613, 60.26264236139901, 61.0661276738175, 61.117111163401404, 61.207135195533034, 61.290004828708625, 61.827490238224904, 64.79563578176418, 64.92936779403806, 65.14607138388791, 68.45868433733419, 69.04194015891699, 70.83451922976445, 71.04180652161082, 72.03917714761951, 72.41963252986992, 72.66965499274072, 74.42110608532946, 74.65023948343182, 75.81521051765783, 76.54611905983757, 77.52551016399012, 78.31550887915364, 78.62255596802535, 79.08827354738301, 92.26432168936333], \"xaxis\": \"x\", \"y\": [3.0931565953245945, 11.784774342935073, 13.749352265402665, 14.780471806750311, 18.36538478441087, 20.069004143694823, 23.209029619792208, 26.336513127847468, 27.4000869097265, 28.514665313462174, 29.56335065055299, 30.708674653719612, 30.752117027828234, 31.777437643495617, 33.79383079994273, 37.304678374281664, 38.339382547433644, 39.12412379338726, 39.30378469756432, 39.58896054477314, 40.934287864210106, 41.02642939158351, 41.166789749917896, 41.25908476116326, 41.74036102639904, 41.74434346236051, 41.8406864957052, 42.2923919581731, 42.70966090101748, 43.19606897387023, 43.20927236381087, 44.313427653093754, 45.195162734615025, 45.42663503064575, 45.57779192109446, 45.811222184705876, 45.84404801103608, 46.20032000712341, 46.20898737356318, 46.805641189807865, 47.35741865261635, 47.887318189571076, 48.089457476055756, 48.19010328140487, 48.284573878929855, 48.39397468761896, 49.41424361798046, 49.63431084293414, 49.67273977382784, 50.27181338432626, 51.740291895346054, 52.349091712270415, 52.78614889697834, 53.263511317043324, 53.46971845985245, 53.61683307029472, 54.74357859906074, 54.759575074277606, 55.00453584975055, 55.28022687651548, 55.44175978487182, 55.98596890270594, 56.17521236883334, 56.36350833174799, 56.46066683197201, 56.5268742063605, 57.24743976786816, 57.526123264547664, 57.63491185071167, 58.48767893865052, 58.767749232936644, 59.12786669976737, 59.38423304213881, 59.574378799272, 59.67133062666602, 59.928796899287335, 60.69082313727936, 60.73917592751318, 60.82455480560076, 60.903148444882724, 61.41290012081126, 64.22789219023439, 64.35472375844991, 64.56024565011411, 67.70193094021626, 68.25509131868026, 69.95517502220123, 70.15176648784208, 71.09767374249179, 71.45849799052621, 71.69561953319817, 73.35669742284261, 73.57400775652962, 74.67886739846736, 75.37206175822108, 76.30091721716381, 77.05015275343338, 77.3413565058891, 77.78304350312423, 90.27922015010381], \"yaxis\": \"y\"}],                        {\"legend\": {\"tracegroupgap\": 0}, \"margin\": {\"t\": 60}, \"template\": {\"data\": {\"bar\": [{\"error_x\": {\"color\": \"#2a3f5f\"}, \"error_y\": {\"color\": \"#2a3f5f\"}, \"marker\": {\"line\": {\"color\": \"#E5ECF6\", \"width\": 0.5}}, \"type\": \"bar\"}], \"barpolar\": [{\"marker\": {\"line\": {\"color\": \"#E5ECF6\", \"width\": 0.5}}, \"type\": \"barpolar\"}], \"carpet\": [{\"aaxis\": {\"endlinecolor\": \"#2a3f5f\", \"gridcolor\": \"white\", \"linecolor\": \"white\", \"minorgridcolor\": \"white\", \"startlinecolor\": \"#2a3f5f\"}, \"baxis\": {\"endlinecolor\": \"#2a3f5f\", \"gridcolor\": \"white\", \"linecolor\": \"white\", \"minorgridcolor\": \"white\", \"startlinecolor\": \"#2a3f5f\"}, \"type\": \"carpet\"}], \"choropleth\": [{\"colorbar\": {\"outlinewidth\": 0, \"ticks\": \"\"}, \"type\": \"choropleth\"}], \"contour\": [{\"colorbar\": {\"outlinewidth\": 0, \"ticks\": \"\"}, \"colorscale\": [[0.0, \"#0d0887\"], [0.1111111111111111, \"#46039f\"], [0.2222222222222222, \"#7201a8\"], [0.3333333333333333, \"#9c179e\"], [0.4444444444444444, \"#bd3786\"], [0.5555555555555556, \"#d8576b\"], [0.6666666666666666, \"#ed7953\"], [0.7777777777777778, \"#fb9f3a\"], [0.8888888888888888, \"#fdca26\"], [1.0, \"#f0f921\"]], \"type\": \"contour\"}], \"contourcarpet\": [{\"colorbar\": {\"outlinewidth\": 0, \"ticks\": \"\"}, \"type\": \"contourcarpet\"}], \"heatmap\": [{\"colorbar\": {\"outlinewidth\": 0, \"ticks\": \"\"}, \"colorscale\": [[0.0, \"#0d0887\"], [0.1111111111111111, \"#46039f\"], [0.2222222222222222, \"#7201a8\"], [0.3333333333333333, \"#9c179e\"], [0.4444444444444444, \"#bd3786\"], [0.5555555555555556, \"#d8576b\"], [0.6666666666666666, \"#ed7953\"], [0.7777777777777778, \"#fb9f3a\"], [0.8888888888888888, \"#fdca26\"], [1.0, \"#f0f921\"]], \"type\": \"heatmap\"}], \"heatmapgl\": [{\"colorbar\": {\"outlinewidth\": 0, \"ticks\": \"\"}, \"colorscale\": [[0.0, \"#0d0887\"], [0.1111111111111111, \"#46039f\"], [0.2222222222222222, \"#7201a8\"], [0.3333333333333333, \"#9c179e\"], [0.4444444444444444, \"#bd3786\"], [0.5555555555555556, \"#d8576b\"], [0.6666666666666666, \"#ed7953\"], [0.7777777777777778, \"#fb9f3a\"], [0.8888888888888888, \"#fdca26\"], [1.0, \"#f0f921\"]], \"type\": \"heatmapgl\"}], \"histogram\": [{\"marker\": {\"colorbar\": {\"outlinewidth\": 0, \"ticks\": \"\"}}, \"type\": \"histogram\"}], \"histogram2d\": [{\"colorbar\": {\"outlinewidth\": 0, \"ticks\": \"\"}, \"colorscale\": [[0.0, \"#0d0887\"], [0.1111111111111111, \"#46039f\"], [0.2222222222222222, \"#7201a8\"], [0.3333333333333333, \"#9c179e\"], [0.4444444444444444, \"#bd3786\"], [0.5555555555555556, \"#d8576b\"], [0.6666666666666666, \"#ed7953\"], [0.7777777777777778, \"#fb9f3a\"], [0.8888888888888888, \"#fdca26\"], [1.0, \"#f0f921\"]], \"type\": \"histogram2d\"}], \"histogram2dcontour\": [{\"colorbar\": {\"outlinewidth\": 0, \"ticks\": \"\"}, \"colorscale\": [[0.0, \"#0d0887\"], [0.1111111111111111, \"#46039f\"], [0.2222222222222222, \"#7201a8\"], [0.3333333333333333, \"#9c179e\"], [0.4444444444444444, \"#bd3786\"], [0.5555555555555556, \"#d8576b\"], [0.6666666666666666, \"#ed7953\"], [0.7777777777777778, \"#fb9f3a\"], [0.8888888888888888, \"#fdca26\"], [1.0, \"#f0f921\"]], \"type\": \"histogram2dcontour\"}], \"mesh3d\": [{\"colorbar\": {\"outlinewidth\": 0, \"ticks\": \"\"}, \"type\": \"mesh3d\"}], \"parcoords\": [{\"line\": {\"colorbar\": {\"outlinewidth\": 0, \"ticks\": \"\"}}, \"type\": \"parcoords\"}], \"pie\": [{\"automargin\": true, \"type\": \"pie\"}], \"scatter\": [{\"marker\": {\"colorbar\": {\"outlinewidth\": 0, \"ticks\": \"\"}}, \"type\": \"scatter\"}], \"scatter3d\": [{\"line\": {\"colorbar\": {\"outlinewidth\": 0, \"ticks\": \"\"}}, \"marker\": {\"colorbar\": {\"outlinewidth\": 0, \"ticks\": \"\"}}, \"type\": \"scatter3d\"}], \"scattercarpet\": [{\"marker\": {\"colorbar\": {\"outlinewidth\": 0, \"ticks\": \"\"}}, \"type\": \"scattercarpet\"}], \"scattergeo\": [{\"marker\": {\"colorbar\": {\"outlinewidth\": 0, \"ticks\": \"\"}}, \"type\": \"scattergeo\"}], \"scattergl\": [{\"marker\": {\"colorbar\": {\"outlinewidth\": 0, \"ticks\": \"\"}}, \"type\": \"scattergl\"}], \"scattermapbox\": [{\"marker\": {\"colorbar\": {\"outlinewidth\": 0, \"ticks\": \"\"}}, \"type\": \"scattermapbox\"}], \"scatterpolar\": [{\"marker\": {\"colorbar\": {\"outlinewidth\": 0, \"ticks\": \"\"}}, \"type\": \"scatterpolar\"}], \"scatterpolargl\": [{\"marker\": {\"colorbar\": {\"outlinewidth\": 0, \"ticks\": \"\"}}, \"type\": \"scatterpolargl\"}], \"scatterternary\": [{\"marker\": {\"colorbar\": {\"outlinewidth\": 0, \"ticks\": \"\"}}, \"type\": \"scatterternary\"}], \"surface\": [{\"colorbar\": {\"outlinewidth\": 0, \"ticks\": \"\"}, \"colorscale\": [[0.0, \"#0d0887\"], [0.1111111111111111, \"#46039f\"], [0.2222222222222222, \"#7201a8\"], [0.3333333333333333, \"#9c179e\"], [0.4444444444444444, \"#bd3786\"], [0.5555555555555556, \"#d8576b\"], [0.6666666666666666, \"#ed7953\"], [0.7777777777777778, \"#fb9f3a\"], [0.8888888888888888, \"#fdca26\"], [1.0, \"#f0f921\"]], \"type\": \"surface\"}], \"table\": [{\"cells\": {\"fill\": {\"color\": \"#EBF0F8\"}, \"line\": {\"color\": \"white\"}}, \"header\": {\"fill\": {\"color\": \"#C8D4E3\"}, \"line\": {\"color\": \"white\"}}, \"type\": \"table\"}]}, \"layout\": {\"annotationdefaults\": {\"arrowcolor\": \"#2a3f5f\", \"arrowhead\": 0, \"arrowwidth\": 1}, \"autotypenumbers\": \"strict\", \"coloraxis\": {\"colorbar\": {\"outlinewidth\": 0, \"ticks\": \"\"}}, \"colorscale\": {\"diverging\": [[0, \"#8e0152\"], [0.1, \"#c51b7d\"], [0.2, \"#de77ae\"], [0.3, \"#f1b6da\"], [0.4, \"#fde0ef\"], [0.5, \"#f7f7f7\"], [0.6, \"#e6f5d0\"], [0.7, \"#b8e186\"], [0.8, \"#7fbc41\"], [0.9, \"#4d9221\"], [1, \"#276419\"]], \"sequential\": [[0.0, \"#0d0887\"], [0.1111111111111111, \"#46039f\"], [0.2222222222222222, \"#7201a8\"], [0.3333333333333333, \"#9c179e\"], [0.4444444444444444, \"#bd3786\"], [0.5555555555555556, \"#d8576b\"], [0.6666666666666666, \"#ed7953\"], [0.7777777777777778, \"#fb9f3a\"], [0.8888888888888888, \"#fdca26\"], [1.0, \"#f0f921\"]], \"sequentialminus\": [[0.0, \"#0d0887\"], [0.1111111111111111, \"#46039f\"], [0.2222222222222222, \"#7201a8\"], [0.3333333333333333, \"#9c179e\"], [0.4444444444444444, \"#bd3786\"], [0.5555555555555556, \"#d8576b\"], [0.6666666666666666, \"#ed7953\"], [0.7777777777777778, \"#fb9f3a\"], [0.8888888888888888, \"#fdca26\"], [1.0, \"#f0f921\"]]}, \"colorway\": [\"#636efa\", \"#EF553B\", \"#00cc96\", \"#ab63fa\", \"#FFA15A\", \"#19d3f3\", \"#FF6692\", \"#B6E880\", \"#FF97FF\", \"#FECB52\"], \"font\": {\"color\": \"#2a3f5f\"}, \"geo\": {\"bgcolor\": \"white\", \"lakecolor\": \"white\", \"landcolor\": \"#E5ECF6\", \"showlakes\": true, \"showland\": true, \"subunitcolor\": \"white\"}, \"hoverlabel\": {\"align\": \"left\"}, \"hovermode\": \"closest\", \"mapbox\": {\"style\": \"light\"}, \"paper_bgcolor\": \"white\", \"plot_bgcolor\": \"#E5ECF6\", \"polar\": {\"angularaxis\": {\"gridcolor\": \"white\", \"linecolor\": \"white\", \"ticks\": \"\"}, \"bgcolor\": \"#E5ECF6\", \"radialaxis\": {\"gridcolor\": \"white\", \"linecolor\": \"white\", \"ticks\": \"\"}}, \"scene\": {\"xaxis\": {\"backgroundcolor\": \"#E5ECF6\", \"gridcolor\": \"white\", \"gridwidth\": 2, \"linecolor\": \"white\", \"showbackground\": true, \"ticks\": \"\", \"zerolinecolor\": \"white\"}, \"yaxis\": {\"backgroundcolor\": \"#E5ECF6\", \"gridcolor\": \"white\", \"gridwidth\": 2, \"linecolor\": \"white\", \"showbackground\": true, \"ticks\": \"\", \"zerolinecolor\": \"white\"}, \"zaxis\": {\"backgroundcolor\": \"#E5ECF6\", \"gridcolor\": \"white\", \"gridwidth\": 2, \"linecolor\": \"white\", \"showbackground\": true, \"ticks\": \"\", \"zerolinecolor\": \"white\"}}, \"shapedefaults\": {\"line\": {\"color\": \"#2a3f5f\"}}, \"ternary\": {\"aaxis\": {\"gridcolor\": \"white\", \"linecolor\": \"white\", \"ticks\": \"\"}, \"baxis\": {\"gridcolor\": \"white\", \"linecolor\": \"white\", \"ticks\": \"\"}, \"bgcolor\": \"#E5ECF6\", \"caxis\": {\"gridcolor\": \"white\", \"linecolor\": \"white\", \"ticks\": \"\"}}, \"title\": {\"x\": 0.05}, \"xaxis\": {\"automargin\": true, \"gridcolor\": \"white\", \"linecolor\": \"white\", \"ticks\": \"\", \"title\": {\"standoff\": 15}, \"zerolinecolor\": \"white\", \"zerolinewidth\": 2}, \"yaxis\": {\"automargin\": true, \"gridcolor\": \"white\", \"linecolor\": \"white\", \"ticks\": \"\", \"title\": {\"standoff\": 15}, \"zerolinecolor\": \"white\", \"zerolinewidth\": 2}}}, \"xaxis\": {\"anchor\": \"y\", \"domain\": [0.0, 1.0], \"title\": {\"text\": \"x\"}}, \"yaxis\": {\"anchor\": \"x\", \"domain\": [0.0, 1.0], \"title\": {\"text\": \"y\"}}},                        {\"responsive\": true}                    ).then(function(){\n",
       "                            \n",
       "var gd = document.getElementById('93d9fa63-4a86-41b5-8759-b72e505d569a');\n",
       "var x = new MutationObserver(function (mutations, observer) {{\n",
       "        var display = window.getComputedStyle(gd).display;\n",
       "        if (!display || display === 'none') {{\n",
       "            console.log([gd, 'removed!']);\n",
       "            Plotly.purge(gd);\n",
       "            observer.disconnect();\n",
       "        }}\n",
       "}});\n",
       "\n",
       "// Listen for the removal of the full notebook cells\n",
       "var notebookContainer = gd.closest('#notebook-container');\n",
       "if (notebookContainer) {{\n",
       "    x.observe(notebookContainer, {childList: true});\n",
       "}}\n",
       "\n",
       "// Listen for the clearing of the current output cell\n",
       "var outputEl = gd.closest('.output');\n",
       "if (outputEl) {{\n",
       "    x.observe(outputEl, {childList: true});\n",
       "}}\n",
       "\n",
       "                        })                };                });            </script>        </div>"
      ]
     },
     "metadata": {},
     "output_type": "display_data"
    }
   ],
   "source": [
    "fig = px.scatter(\n",
    "    x=agent_attr_list, y=chosen_attr_list, opacity=0.65,\n",
    "    trendline='ols', trendline_color_override='darkblue'\n",
    ")\n",
    "fig.show()"
   ]
  },
  {
   "cell_type": "markdown",
   "metadata": {},
   "source": [
    "### random sample "
   ]
  },
  {
   "cell_type": "code",
   "execution_count": 112,
   "metadata": {},
   "outputs": [],
   "source": [
    "item_list = [] #list that holds ALL possible items, the whole database\n",
    "diff_list = []\n",
    "agent_list = []\n",
    "chosen_attr_list = []\n",
    "agent_attr_list = []\n",
    "\n",
    "#prep the initial questionaire\n",
    "for i in range(initial_no_of_items):\n",
    "    init_item = Item()\n",
    "    item_list.append(init_item)\n",
    "\n",
    "for each_agent in range(number_of_agents):\n",
    "    agent = Agent() # give a random attr in the __init__ method\n",
    "    if len(item_list) <= max_items_per_questionaire: # if the items in the questionaire are less than 30, ask all items:\n",
    "        for item in item_list:#item_list is a list of items\n",
    "            diff_list.append(abs(agent.attr - item.attr))\n",
    "        idx_min = np.argmin(diff_list)\n",
    "    else:\n",
    "        random.shuffle(item_list)\n",
    "        for i in range(max_items_per_questionaire):\n",
    "            diff_list.append(abs(agent.attr - item_list[i].attr))\n",
    "        idx_min = np.argmin(diff_list)\n",
    "\n",
    "\n",
    "    chosen_attr_list.append(item_list[idx_min].attr)\n",
    "    agent_attr_list.append(agent.attr)\n",
    "    \n",
    "    #register agenct choice       \n",
    "    agent.choose(item_list[idx_min])\n",
    "    #add agent to agent list\n",
    "    agent_list.append(agent)       \n",
    "            \n",
    "\n",
    "    #agent add new item     \n",
    "    new_item = Item()\n",
    "    new_item.attr = agent.attr\n",
    "    item_list.append(new_item)     \n",
    "    diff_list = []                "
   ]
  },
  {
   "cell_type": "code",
   "execution_count": 113,
   "metadata": {},
   "outputs": [
    {
     "data": {
      "text/plain": [
       "<seaborn.axisgrid.FacetGrid at 0x7ffba55bea60>"
      ]
     },
     "execution_count": 113,
     "metadata": {},
     "output_type": "execute_result"
    },
    {
     "data": {
      "image/png": "[encoded data removed]",
      "text/plain": [
       "<Figure size 360x360 with 1 Axes>"
      ]
     },
     "metadata": {
      "needs_background": "light"
     },
     "output_type": "display_data"
    }
   ],
   "source": [
    "# attributes of chosen items\n",
    "sns.displot(chosen_attr_list )"
   ]
  },
  {
   "cell_type": "code",
   "execution_count": 114,
   "metadata": {},
   "outputs": [
    {
     "data": {
      "text/plain": [
       "<seaborn.axisgrid.FacetGrid at 0x7ffbaa1a1f70>"
      ]
     },
     "execution_count": 114,
     "metadata": {},
     "output_type": "execute_result"
    },
    {
     "data": {
      "image/png": "[encoded data removed]",
      "text/plain": [
       "<Figure size 360x360 with 1 Axes>"
      ]
     },
     "metadata": {
      "needs_background": "light"
     },
     "output_type": "display_data"
    }
   ],
   "source": [
    "# attributes of agents\n",
    "sns.displot(agent_attr_list)"
   ]
  },
  {
   "cell_type": "code",
   "execution_count": 115,
   "metadata": {
    "scrolled": false
   },
   "outputs": [
    {
     "data": {
      "application/vnd.plotly.v1+json": {
       "config": {
        "plotlyServerURL": "https://plot.ly"
       },
       "data": [
        {
         "hovertemplate": "x=%{x}<br>y=%{y}<extra></extra>",
         "legendgroup": "",
         "marker": {
          "color": "#636efa",
          "opacity": 0.65,
          "symbol": "circle"
         },
         "mode": "markers",
         "name": "",
         "orientation": "v",
         "showlegend": false,
         "type": "scatter",
         "x": [
          56.42931494150256,
          59.51798505570257,
          66.67458697909625,
          53.33511354453422,
          39.19172847902073,
          24.635576541360816,
          49.59978235309871,
          43.248453759877584,
          52.05838808410314,
          67.92606589600985,
          54.530310927119615,
          21.712752480180157,
          51.903007213586335,
          72.5138182497662,
          63.299439929686706,
          36.612486094882435,
          19.288616182444905,
          27.871383651233543,
          61.76663951818698,
          33.83782789265818,
          73.41496025133988,
          81.09120353375228,
          61.74775193076137,
          22.52724112969276,
          34.11799637836408,
          70.67556601625472,
          40.917834844184895,
          47.87359024246555,
          55.96091913704987,
          52.106811101646485,
          25.71290739645196,
          46.01431429090458,
          20.686020629152658,
          25.682008041324956,
          42.75600011815974,
          24.031407449204938,
          52.118912477431984,
          44.61068290727111,
          38.918765496736995,
          57.677009700248085,
          47.96294191304758,
          43.16454507784309,
          39.972240608178424,
          79.61090997911892,
          75.35378828426819,
          30.3033332758048,
          38.09418934752236,
          46.92306918706686,
          59.528293217599945,
          50.992328687084246,
          80.14543805316944,
          58.17521281216317,
          49.51202441853046,
          56.4474143420773,
          36.133153232785205,
          36.785081952675355,
          66.57488197768572,
          53.043209584484465,
          34.33775883190041,
          33.63364340377945,
          29.175897117180988,
          57.762019417540984,
          42.235055301905135,
          82.3251212905196,
          73.06882880726221,
          25.93689417681648,
          85.99132918671182,
          77.61458153151442,
          52.631342709512325,
          32.770997804870824,
          60.658171477588084,
          63.287615998388645,
          56.1308215762459,
          75.31368456279245,
          57.43527654363167,
          60.51461295645768,
          7.47397777162432,
          60.90268666535383,
          69.24913561297312,
          42.21620411071812,
          89.06812113325537,
          77.46252846676396,
          53.58025319383734,
          15.704871027078184,
          40.76522905977897,
          27.576695549740258,
          39.351335276707246,
          37.53842371713355,
          62.61470288221522,
          69.26338955061067,
          62.45009617988312,
          48.65903173754117,
          33.83153945868034,
          43.577738320821894,
          51.6449415520579,
          80.96894651729708,
          44.55561855441617,
          36.32015363131464,
          29.772282930766867,
          42.21858585529029
         ],
         "xaxis": "x",
         "y": [
          47.09080666567734,
          56.42931494150256,
          69.9702849662693,
          56.42931494150256,
          45.40538826997471,
          29.38271982199242,
          47.09080666567734,
          45.40538826997471,
          53.33511354453422,
          66.67458697909625,
          53.33511354453422,
          24.635576541360816,
          52.05838808410314,
          69.9702849662693,
          66.67458697909625,
          39.19172847902073,
          21.712752480180157,
          29.38271982199242,
          63.299439929686706,
          36.612486094882435,
          72.5138182497662,
          73.41496025133988,
          61.76663951818698,
          21.712752480180157,
          33.83782789265818,
          69.9702849662693,
          39.19172847902073,
          47.09080666567734,
          56.42931494150256,
          52.05838808410314,
          24.635576541360816,
          45.40538826997471,
          19.288616182444905,
          25.71290739645196,
          43.248453759877584,
          24.635576541360816,
          52.106811101646485,
          45.40538826997471,
          39.19172847902073,
          56.42931494150256,
          45.40538826997471,
          43.248453759877584,
          39.19172847902073,
          73.41496025133988,
          73.41496025133988,
          29.38271982199242,
          39.19172847902073,
          47.09080666567734,
          57.677009700248085,
          51.903007213586335,
          79.61090997911892,
          57.677009700248085,
          50.992328687084246,
          55.96091913704987,
          38.09418934752236,
          36.133153232785205,
          67.92606589600985,
          52.106811101646485,
          34.11799637836408,
          34.11799637836408,
          27.871383651233543,
          58.17521281216317,
          42.75600011815974,
          81.09120353375228,
          73.41496025133988,
          25.71290739645196,
          81.09120353375228,
          75.35378828426819,
          52.118912477431984,
          34.11799637836408,
          59.528293217599945,
          66.67458697909625,
          56.42931494150256,
          77.61458153151442,
          56.42931494150256,
          60.658171477588084,
          21.712752480180157,
          60.658171477588084,
          72.5138182497662,
          39.19172847902073,
          82.3251212905196,
          81.09120353375228,
          53.33511354453422,
          25.682008041324956,
          40.917834844184895,
          22.52724112969276,
          39.19172847902073,
          38.09418934752236,
          61.74775193076137,
          69.9702849662693,
          61.74775193076137,
          49.59978235309871,
          33.83782789265818,
          43.248453759877584,
          51.903007213586335,
          82.3251212905196,
          46.01431429090458,
          36.785081952675355,
          30.3033332758048,
          42.21620411071812
         ],
         "yaxis": "y"
        },
        {
         "hovertemplate": "<b>OLS trendline</b><br>y = 0.934353 * x + 3.37501<br>R<sup>2</sup>=0.974515<br><br>x=%{x}<br>y=%{y} <b>(trend)</b><extra></extra>",
         "legendgroup": "",
         "line": {
          "color": "darkblue"
         },
         "marker": {
          "color": "#636efa",
          "symbol": "circle"
         },
         "mode": "lines",
         "name": "",
         "showlegend": false,
         "type": "scatter",
         "x": [
          7.47397777162432,
          15.704871027078184,
          19.288616182444905,
          20.686020629152658,
          21.712752480180157,
          22.52724112969276,
          24.031407449204938,
          24.635576541360816,
          25.682008041324956,
          25.71290739645196,
          25.93689417681648,
          27.576695549740258,
          27.871383651233543,
          29.175897117180988,
          29.772282930766867,
          30.3033332758048,
          32.770997804870824,
          33.63364340377945,
          33.83153945868034,
          33.83782789265818,
          34.11799637836408,
          34.33775883190041,
          36.133153232785205,
          36.32015363131464,
          36.612486094882435,
          36.785081952675355,
          37.53842371713355,
          38.09418934752236,
          38.918765496736995,
          39.19172847902073,
          39.351335276707246,
          39.972240608178424,
          40.76522905977897,
          40.917834844184895,
          42.21620411071812,
          42.21858585529029,
          42.235055301905135,
          42.75600011815974,
          43.16454507784309,
          43.248453759877584,
          43.577738320821894,
          44.55561855441617,
          44.61068290727111,
          46.01431429090458,
          46.92306918706686,
          47.87359024246555,
          47.96294191304758,
          48.65903173754117,
          49.51202441853046,
          49.59978235309871,
          50.992328687084246,
          51.6449415520579,
          51.903007213586335,
          52.05838808410314,
          52.106811101646485,
          52.118912477431984,
          52.631342709512325,
          53.043209584484465,
          53.33511354453422,
          53.58025319383734,
          54.530310927119615,
          55.96091913704987,
          56.1308215762459,
          56.42931494150256,
          56.4474143420773,
          57.43527654363167,
          57.677009700248085,
          57.762019417540984,
          58.17521281216317,
          59.51798505570257,
          59.528293217599945,
          60.51461295645768,
          60.658171477588084,
          60.90268666535383,
          61.74775193076137,
          61.76663951818698,
          62.45009617988312,
          62.61470288221522,
          63.287615998388645,
          63.299439929686706,
          66.57488197768572,
          66.67458697909625,
          67.92606589600985,
          69.24913561297312,
          69.26338955061067,
          70.67556601625472,
          72.5138182497662,
          73.06882880726221,
          73.41496025133988,
          75.31368456279245,
          75.35378828426819,
          77.46252846676396,
          77.61458153151442,
          79.61090997911892,
          80.14543805316944,
          80.96894651729708,
          81.09120353375228,
          82.3251212905196,
          85.99132918671182,
          89.06812113325537
         ],
         "xaxis": "x",
         "y": [
          10.358345696457857,
          18.048902377938806,
          21.397384054708017,
          22.703052561250555,
          23.662382156708105,
          24.423401760667744,
          25.8288235028241,
          26.39333047724573,
          27.371066491308227,
          27.39993738473987,
          27.609220019908825,
          29.14137272963865,
          29.41671532947014,
          30.63559090472759,
          31.192825552422025,
          31.689013833873506,
          33.99468265287896,
          34.800697828697324,
          34.98560252616115,
          34.991478140926574,
          35.25325429969989,
          35.458589924027486,
          37.13612138714895,
          37.31084569953111,
          37.583987302894194,
          37.74525269489351,
          38.44913954657314,
          38.9684206196562,
          39.73886550539574,
          39.993909183165236,
          40.14303821281757,
          40.72318273629913,
          41.46411357400047,
          41.60670118854863,
          42.81983591498312,
          42.82206130426527,
          42.83744957486641,
          43.32419572901865,
          43.705920782650736,
          43.78432107958413,
          44.091988971960305,
          45.00567393065826,
          45.057123453039004,
          46.36861011441516,
          47.217707632947366,
          48.10582947180624,
          48.18931543935183,
          48.839708790902456,
          49.63670473756837,
          49.71870159369327,
          51.019830909883595,
          51.62960145037967,
          51.870725777464486,
          52.01590630099218,
          52.061150474321565,
          52.072457426497216,
          52.55124795661459,
          52.936076850501514,
          53.208818080479666,
          53.43786495417043,
          54.325553886795724,
          55.66224641651241,
          55.82099520578788,
          56.099893263788,
          56.11680448614271,
          57.039816122760946,
          57.26568013108349,
          57.34510918319573,
          57.73117751419369,
          58.98580027854755,
          58.99543173662789,
          59.917002169183654,
          60.051136449582856,
          60.27959985599983,
          61.06918880114391,
          61.086836467948096,
          61.72542599073496,
          61.87922669439467,
          62.507964827794055,
          62.51901254898585,
          65.57943040950802,
          65.67259003884311,
          66.84191264423896,
          68.07812630125788,
          68.09144450524057,
          69.41091528638486,
          71.12849107772581,
          71.64706664647288,
          71.97047546825031,
          73.74455350407665,
          73.78202452132538,
          75.7523314365869,
          75.89440261607662,
          77.75967733227857,
          78.25911503894602,
          79.02856233032675,
          79.14279349401417,
          80.29570778341005,
          83.72123873815508,
          86.59604735583925
         ],
         "yaxis": "y"
        }
       ],
       "layout": {
        "legend": {
         "tracegroupgap": 0
        },
        "margin": {
         "t": 60
        },
        "template": {
         "data": {
          "bar": [
           {
            "error_x": {
             "color": "#2a3f5f"
            },
            "error_y": {
             "color": "#2a3f5f"
            },
            "marker": {
             "line": {
              "color": "#E5ECF6",
              "width": 0.5
             }
            },
            "type": "bar"
           }
          ],
          "barpolar": [
           {
            "marker": {
             "line": {
              "color": "#E5ECF6",
              "width": 0.5
             }
            },
            "type": "barpolar"
           }
          ],
          "carpet": [
           {
            "aaxis": {
             "endlinecolor": "#2a3f5f",
             "gridcolor": "white",
             "linecolor": "white",
             "minorgridcolor": "white",
             "startlinecolor": "#2a3f5f"
            },
            "baxis": {
             "endlinecolor": "#2a3f5f",
             "gridcolor": "white",
             "linecolor": "white",
             "minorgridcolor": "white",
             "startlinecolor": "#2a3f5f"
            },
            "type": "carpet"
           }
          ],
          "choropleth": [
           {
            "colorbar": {
             "outlinewidth": 0,
             "ticks": ""
            },
            "type": "choropleth"
           }
          ],
          "contour": [
           {
            "colorbar": {
             "outlinewidth": 0,
             "ticks": ""
            },
            "colorscale": [
             [
              0,
              "#0d0887"
             ],
             [
              0.1111111111111111,
              "#46039f"
             ],
             [
              0.2222222222222222,
              "#7201a8"
             ],
             [
              0.3333333333333333,
              "#9c179e"
             ],
             [
              0.4444444444444444,
              "#bd3786"
             ],
             [
              0.5555555555555556,
              "#d8576b"
             ],
             [
              0.6666666666666666,
              "#ed7953"
             ],
             [
              0.7777777777777778,
              "#fb9f3a"
             ],
             [
              0.8888888888888888,
              "#fdca26"
             ],
             [
              1,
              "#f0f921"
             ]
            ],
            "type": "contour"
           }
          ],
          "contourcarpet": [
           {
            "colorbar": {
             "outlinewidth": 0,
             "ticks": ""
            },
            "type": "contourcarpet"
           }
          ],
          "heatmap": [
           {
            "colorbar": {
             "outlinewidth": 0,
             "ticks": ""
            },
            "colorscale": [
             [
              0,
              "#0d0887"
             ],
             [
              0.1111111111111111,
              "#46039f"
             ],
             [
              0.2222222222222222,
              "#7201a8"
             ],
             [
              0.3333333333333333,
              "#9c179e"
             ],
             [
              0.4444444444444444,
              "#bd3786"
             ],
             [
              0.5555555555555556,
              "#d8576b"
             ],
             [
              0.6666666666666666,
              "#ed7953"
             ],
             [
              0.7777777777777778,
              "#fb9f3a"
             ],
             [
              0.8888888888888888,
              "#fdca26"
             ],
             [
              1,
              "#f0f921"
             ]
            ],
            "type": "heatmap"
           }
          ],
          "heatmapgl": [
           {
            "colorbar": {
             "outlinewidth": 0,
             "ticks": ""
            },
            "colorscale": [
             [
              0,
              "#0d0887"
             ],
             [
              0.1111111111111111,
              "#46039f"
             ],
             [
              0.2222222222222222,
              "#7201a8"
             ],
             [
              0.3333333333333333,
              "#9c179e"
             ],
             [
              0.4444444444444444,
              "#bd3786"
             ],
             [
              0.5555555555555556,
              "#d8576b"
             ],
             [
              0.6666666666666666,
              "#ed7953"
             ],
             [
              0.7777777777777778,
              "#fb9f3a"
             ],
             [
              0.8888888888888888,
              "#fdca26"
             ],
             [
              1,
              "#f0f921"
             ]
            ],
            "type": "heatmapgl"
           }
          ],
          "histogram": [
           {
            "marker": {
             "colorbar": {
              "outlinewidth": 0,
              "ticks": ""
             }
            },
            "type": "histogram"
           }
          ],
          "histogram2d": [
           {
            "colorbar": {
             "outlinewidth": 0,
             "ticks": ""
            },
            "colorscale": [
             [
              0,
              "#0d0887"
             ],
             [
              0.1111111111111111,
              "#46039f"
             ],
             [
              0.2222222222222222,
              "#7201a8"
             ],
             [
              0.3333333333333333,
              "#9c179e"
             ],
             [
              0.4444444444444444,
              "#bd3786"
             ],
             [
              0.5555555555555556,
              "#d8576b"
             ],
             [
              0.6666666666666666,
              "#ed7953"
             ],
             [
              0.7777777777777778,
              "#fb9f3a"
             ],
             [
              0.8888888888888888,
              "#fdca26"
             ],
             [
              1,
              "#f0f921"
             ]
            ],
            "type": "histogram2d"
           }
          ],
          "histogram2dcontour": [
           {
            "colorbar": {
             "outlinewidth": 0,
             "ticks": ""
            },
            "colorscale": [
             [
              0,
              "#0d0887"
             ],
             [
              0.1111111111111111,
              "#46039f"
             ],
             [
              0.2222222222222222,
              "#7201a8"
             ],
             [
              0.3333333333333333,
              "#9c179e"
             ],
             [
              0.4444444444444444,
              "#bd3786"
             ],
             [
              0.5555555555555556,
              "#d8576b"
             ],
             [
              0.6666666666666666,
              "#ed7953"
             ],
             [
              0.7777777777777778,
              "#fb9f3a"
             ],
             [
              0.8888888888888888,
              "#fdca26"
             ],
             [
              1,
              "#f0f921"
             ]
            ],
            "type": "histogram2dcontour"
           }
          ],
          "mesh3d": [
           {
            "colorbar": {
             "outlinewidth": 0,
             "ticks": ""
            },
            "type": "mesh3d"
           }
          ],
          "parcoords": [
           {
            "line": {
             "colorbar": {
              "outlinewidth": 0,
              "ticks": ""
             }
            },
            "type": "parcoords"
           }
          ],
          "pie": [
           {
            "automargin": true,
            "type": "pie"
           }
          ],
          "scatter": [
           {
            "marker": {
             "colorbar": {
              "outlinewidth": 0,
              "ticks": ""
             }
            },
            "type": "scatter"
           }
          ],
          "scatter3d": [
           {
            "line": {
             "colorbar": {
              "outlinewidth": 0,
              "ticks": ""
             }
            },
            "marker": {
             "colorbar": {
              "outlinewidth": 0,
              "ticks": ""
             }
            },
            "type": "scatter3d"
           }
          ],
          "scattercarpet": [
           {
            "marker": {
             "colorbar": {
              "outlinewidth": 0,
              "ticks": ""
             }
            },
            "type": "scattercarpet"
           }
          ],
          "scattergeo": [
           {
            "marker": {
             "colorbar": {
              "outlinewidth": 0,
              "ticks": ""
             }
            },
            "type": "scattergeo"
           }
          ],
          "scattergl": [
           {
            "marker": {
             "colorbar": {
              "outlinewidth": 0,
              "ticks": ""
             }
            },
            "type": "scattergl"
           }
          ],
          "scattermapbox": [
           {
            "marker": {
             "colorbar": {
              "outlinewidth": 0,
              "ticks": ""
             }
            },
            "type": "scattermapbox"
           }
          ],
          "scatterpolar": [
           {
            "marker": {
             "colorbar": {
              "outlinewidth": 0,
              "ticks": ""
             }
            },
            "type": "scatterpolar"
           }
          ],
          "scatterpolargl": [
           {
            "marker": {
             "colorbar": {
              "outlinewidth": 0,
              "ticks": ""
             }
            },
            "type": "scatterpolargl"
           }
          ],
          "scatterternary": [
           {
            "marker": {
             "colorbar": {
              "outlinewidth": 0,
              "ticks": ""
             }
            },
            "type": "scatterternary"
           }
          ],
          "surface": [
           {
            "colorbar": {
             "outlinewidth": 0,
             "ticks": ""
            },
            "colorscale": [
             [
              0,
              "#0d0887"
             ],
             [
              0.1111111111111111,
              "#46039f"
             ],
             [
              0.2222222222222222,
              "#7201a8"
             ],
             [
              0.3333333333333333,
              "#9c179e"
             ],
             [
              0.4444444444444444,
              "#bd3786"
             ],
             [
              0.5555555555555556,
              "#d8576b"
             ],
             [
              0.6666666666666666,
              "#ed7953"
             ],
             [
              0.7777777777777778,
              "#fb9f3a"
             ],
             [
              0.8888888888888888,
              "#fdca26"
             ],
             [
              1,
              "#f0f921"
             ]
            ],
            "type": "surface"
           }
          ],
          "table": [
           {
            "cells": {
             "fill": {
              "color": "#EBF0F8"
             },
             "line": {
              "color": "white"
             }
            },
            "header": {
             "fill": {
              "color": "#C8D4E3"
             },
             "line": {
              "color": "white"
             }
            },
            "type": "table"
           }
          ]
         },
         "layout": {
          "annotationdefaults": {
           "arrowcolor": "#2a3f5f",
           "arrowhead": 0,
           "arrowwidth": 1
          },
          "autotypenumbers": "strict",
          "coloraxis": {
           "colorbar": {
            "outlinewidth": 0,
            "ticks": ""
           }
          },
          "colorscale": {
           "diverging": [
            [
             0,
             "#8e0152"
            ],
            [
             0.1,
             "#c51b7d"
            ],
            [
             0.2,
             "#de77ae"
            ],
            [
             0.3,
             "#f1b6da"
            ],
            [
             0.4,
             "#fde0ef"
            ],
            [
             0.5,
             "#f7f7f7"
            ],
            [
             0.6,
             "#e6f5d0"
            ],
            [
             0.7,
             "#b8e186"
            ],
            [
             0.8,
             "#7fbc41"
            ],
            [
             0.9,
             "#4d9221"
            ],
            [
             1,
             "#276419"
            ]
           ],
           "sequential": [
            [
             0,
             "#0d0887"
            ],
            [
             0.1111111111111111,
             "#46039f"
            ],
            [
             0.2222222222222222,
             "#7201a8"
            ],
            [
             0.3333333333333333,
             "#9c179e"
            ],
            [
             0.4444444444444444,
             "#bd3786"
            ],
            [
             0.5555555555555556,
             "#d8576b"
            ],
            [
             0.6666666666666666,
             "#ed7953"
            ],
            [
             0.7777777777777778,
             "#fb9f3a"
            ],
            [
             0.8888888888888888,
             "#fdca26"
            ],
            [
             1,
             "#f0f921"
            ]
           ],
           "sequentialminus": [
            [
             0,
             "#0d0887"
            ],
            [
             0.1111111111111111,
             "#46039f"
            ],
            [
             0.2222222222222222,
             "#7201a8"
            ],
            [
             0.3333333333333333,
             "#9c179e"
            ],
            [
             0.4444444444444444,
             "#bd3786"
            ],
            [
             0.5555555555555556,
             "#d8576b"
            ],
            [
             0.6666666666666666,
             "#ed7953"
            ],
            [
             0.7777777777777778,
             "#fb9f3a"
            ],
            [
             0.8888888888888888,
             "#fdca26"
            ],
            [
             1,
             "#f0f921"
            ]
           ]
          },
          "colorway": [
           "#636efa",
           "#EF553B",
           "#00cc96",
           "#ab63fa",
           "#FFA15A",
           "#19d3f3",
           "#FF6692",
           "#B6E880",
           "#FF97FF",
           "#FECB52"
          ],
          "font": {
           "color": "#2a3f5f"
          },
          "geo": {
           "bgcolor": "white",
           "lakecolor": "white",
           "landcolor": "#E5ECF6",
           "showlakes": true,
           "showland": true,
           "subunitcolor": "white"
          },
          "hoverlabel": {
           "align": "left"
          },
          "hovermode": "closest",
          "mapbox": {
           "style": "light"
          },
          "paper_bgcolor": "white",
          "plot_bgcolor": "#E5ECF6",
          "polar": {
           "angularaxis": {
            "gridcolor": "white",
            "linecolor": "white",
            "ticks": ""
           },
           "bgcolor": "#E5ECF6",
           "radialaxis": {
            "gridcolor": "white",
            "linecolor": "white",
            "ticks": ""
           }
          },
          "scene": {
           "xaxis": {
            "backgroundcolor": "#E5ECF6",
            "gridcolor": "white",
            "gridwidth": 2,
            "linecolor": "white",
            "showbackground": true,
            "ticks": "",
            "zerolinecolor": "white"
           },
           "yaxis": {
            "backgroundcolor": "#E5ECF6",
            "gridcolor": "white",
            "gridwidth": 2,
            "linecolor": "white",
            "showbackground": true,
            "ticks": "",
            "zerolinecolor": "white"
           },
           "zaxis": {
            "backgroundcolor": "#E5ECF6",
            "gridcolor": "white",
            "gridwidth": 2,
            "linecolor": "white",
            "showbackground": true,
            "ticks": "",
            "zerolinecolor": "white"
           }
          },
          "shapedefaults": {
           "line": {
            "color": "#2a3f5f"
           }
          },
          "ternary": {
           "aaxis": {
            "gridcolor": "white",
            "linecolor": "white",
            "ticks": ""
           },
           "baxis": {
            "gridcolor": "white",
            "linecolor": "white",
            "ticks": ""
           },
           "bgcolor": "#E5ECF6",
           "caxis": {
            "gridcolor": "white",
            "linecolor": "white",
            "ticks": ""
           }
          },
          "title": {
           "x": 0.05
          },
          "xaxis": {
           "automargin": true,
           "gridcolor": "white",
           "linecolor": "white",
           "ticks": "",
           "title": {
            "standoff": 15
           },
           "zerolinecolor": "white",
           "zerolinewidth": 2
          },
          "yaxis": {
           "automargin": true,
           "gridcolor": "white",
           "linecolor": "white",
           "ticks": "",
           "title": {
            "standoff": 15
           },
           "zerolinecolor": "white",
           "zerolinewidth": 2
          }
         }
        },
        "xaxis": {
         "anchor": "y",
         "domain": [
          0,
          1
         ],
         "title": {
          "text": "x"
         }
        },
        "yaxis": {
         "anchor": "x",
         "domain": [
          0,
          1
         ],
         "title": {
          "text": "y"
         }
        }
       }
      },
      "text/html": [
       "<div>                            <div id=\"2c8e8544-0864-4f33-928c-baa542725a2f\" class=\"plotly-graph-div\" style=\"height:525px; width:100%;\"></div>            <script type=\"text/javascript\">                require([\"plotly\"], function(Plotly) {                    window.PLOTLYENV=window.PLOTLYENV || {};                                    if (document.getElementById(\"2c8e8544-0864-4f33-928c-baa542725a2f\")) {                    Plotly.newPlot(                        \"2c8e8544-0864-4f33-928c-baa542725a2f\",                        [{\"hovertemplate\": \"x=%{x}<br>y=%{y}<extra></extra>\", \"legendgroup\": \"\", \"marker\": {\"color\": \"#636efa\", \"opacity\": 0.65, \"symbol\": \"circle\"}, \"mode\": \"markers\", \"name\": \"\", \"orientation\": \"v\", \"showlegend\": false, \"type\": \"scatter\", \"x\": [56.42931494150256, 59.51798505570257, 66.67458697909625, 53.33511354453422, 39.19172847902073, 24.635576541360816, 49.59978235309871, 43.248453759877584, 52.05838808410314, 67.92606589600985, 54.530310927119615, 21.712752480180157, 51.903007213586335, 72.5138182497662, 63.299439929686706, 36.612486094882435, 19.288616182444905, 27.871383651233543, 61.76663951818698, 33.83782789265818, 73.41496025133988, 81.09120353375228, 61.74775193076137, 22.52724112969276, 34.11799637836408, 70.67556601625472, 40.917834844184895, 47.87359024246555, 55.96091913704987, 52.106811101646485, 25.71290739645196, 46.01431429090458, 20.686020629152658, 25.682008041324956, 42.75600011815974, 24.031407449204938, 52.118912477431984, 44.61068290727111, 38.918765496736995, 57.677009700248085, 47.96294191304758, 43.16454507784309, 39.972240608178424, 79.61090997911892, 75.35378828426819, 30.3033332758048, 38.09418934752236, 46.92306918706686, 59.528293217599945, 50.992328687084246, 80.14543805316944, 58.17521281216317, 49.51202441853046, 56.4474143420773, 36.133153232785205, 36.785081952675355, 66.57488197768572, 53.043209584484465, 34.33775883190041, 33.63364340377945, 29.175897117180988, 57.762019417540984, 42.235055301905135, 82.3251212905196, 73.06882880726221, 25.93689417681648, 85.99132918671182, 77.61458153151442, 52.631342709512325, 32.770997804870824, 60.658171477588084, 63.287615998388645, 56.1308215762459, 75.31368456279245, 57.43527654363167, 60.51461295645768, 7.47397777162432, 60.90268666535383, 69.24913561297312, 42.21620411071812, 89.06812113325537, 77.46252846676396, 53.58025319383734, 15.704871027078184, 40.76522905977897, 27.576695549740258, 39.351335276707246, 37.53842371713355, 62.61470288221522, 69.26338955061067, 62.45009617988312, 48.65903173754117, 33.83153945868034, 43.577738320821894, 51.6449415520579, 80.96894651729708, 44.55561855441617, 36.32015363131464, 29.772282930766867, 42.21858585529029], \"xaxis\": \"x\", \"y\": [47.09080666567734, 56.42931494150256, 69.9702849662693, 56.42931494150256, 45.40538826997471, 29.38271982199242, 47.09080666567734, 45.40538826997471, 53.33511354453422, 66.67458697909625, 53.33511354453422, 24.635576541360816, 52.05838808410314, 69.9702849662693, 66.67458697909625, 39.19172847902073, 21.712752480180157, 29.38271982199242, 63.299439929686706, 36.612486094882435, 72.5138182497662, 73.41496025133988, 61.76663951818698, 21.712752480180157, 33.83782789265818, 69.9702849662693, 39.19172847902073, 47.09080666567734, 56.42931494150256, 52.05838808410314, 24.635576541360816, 45.40538826997471, 19.288616182444905, 25.71290739645196, 43.248453759877584, 24.635576541360816, 52.106811101646485, 45.40538826997471, 39.19172847902073, 56.42931494150256, 45.40538826997471, 43.248453759877584, 39.19172847902073, 73.41496025133988, 73.41496025133988, 29.38271982199242, 39.19172847902073, 47.09080666567734, 57.677009700248085, 51.903007213586335, 79.61090997911892, 57.677009700248085, 50.992328687084246, 55.96091913704987, 38.09418934752236, 36.133153232785205, 67.92606589600985, 52.106811101646485, 34.11799637836408, 34.11799637836408, 27.871383651233543, 58.17521281216317, 42.75600011815974, 81.09120353375228, 73.41496025133988, 25.71290739645196, 81.09120353375228, 75.35378828426819, 52.118912477431984, 34.11799637836408, 59.528293217599945, 66.67458697909625, 56.42931494150256, 77.61458153151442, 56.42931494150256, 60.658171477588084, 21.712752480180157, 60.658171477588084, 72.5138182497662, 39.19172847902073, 82.3251212905196, 81.09120353375228, 53.33511354453422, 25.682008041324956, 40.917834844184895, 22.52724112969276, 39.19172847902073, 38.09418934752236, 61.74775193076137, 69.9702849662693, 61.74775193076137, 49.59978235309871, 33.83782789265818, 43.248453759877584, 51.903007213586335, 82.3251212905196, 46.01431429090458, 36.785081952675355, 30.3033332758048, 42.21620411071812], \"yaxis\": \"y\"}, {\"hovertemplate\": \"<b>OLS trendline</b><br>y = 0.934353 * x + 3.37501<br>R<sup>2</sup>=0.974515<br><br>x=%{x}<br>y=%{y} <b>(trend)</b><extra></extra>\", \"legendgroup\": \"\", \"line\": {\"color\": \"darkblue\"}, \"marker\": {\"color\": \"#636efa\", \"symbol\": \"circle\"}, \"mode\": \"lines\", \"name\": \"\", \"showlegend\": false, \"type\": \"scatter\", \"x\": [7.47397777162432, 15.704871027078184, 19.288616182444905, 20.686020629152658, 21.712752480180157, 22.52724112969276, 24.031407449204938, 24.635576541360816, 25.682008041324956, 25.71290739645196, 25.93689417681648, 27.576695549740258, 27.871383651233543, 29.175897117180988, 29.772282930766867, 30.3033332758048, 32.770997804870824, 33.63364340377945, 33.83153945868034, 33.83782789265818, 34.11799637836408, 34.33775883190041, 36.133153232785205, 36.32015363131464, 36.612486094882435, 36.785081952675355, 37.53842371713355, 38.09418934752236, 38.918765496736995, 39.19172847902073, 39.351335276707246, 39.972240608178424, 40.76522905977897, 40.917834844184895, 42.21620411071812, 42.21858585529029, 42.235055301905135, 42.75600011815974, 43.16454507784309, 43.248453759877584, 43.577738320821894, 44.55561855441617, 44.61068290727111, 46.01431429090458, 46.92306918706686, 47.87359024246555, 47.96294191304758, 48.65903173754117, 49.51202441853046, 49.59978235309871, 50.992328687084246, 51.6449415520579, 51.903007213586335, 52.05838808410314, 52.106811101646485, 52.118912477431984, 52.631342709512325, 53.043209584484465, 53.33511354453422, 53.58025319383734, 54.530310927119615, 55.96091913704987, 56.1308215762459, 56.42931494150256, 56.4474143420773, 57.43527654363167, 57.677009700248085, 57.762019417540984, 58.17521281216317, 59.51798505570257, 59.528293217599945, 60.51461295645768, 60.658171477588084, 60.90268666535383, 61.74775193076137, 61.76663951818698, 62.45009617988312, 62.61470288221522, 63.287615998388645, 63.299439929686706, 66.57488197768572, 66.67458697909625, 67.92606589600985, 69.24913561297312, 69.26338955061067, 70.67556601625472, 72.5138182497662, 73.06882880726221, 73.41496025133988, 75.31368456279245, 75.35378828426819, 77.46252846676396, 77.61458153151442, 79.61090997911892, 80.14543805316944, 80.96894651729708, 81.09120353375228, 82.3251212905196, 85.99132918671182, 89.06812113325537], \"xaxis\": \"x\", \"y\": [10.358345696457857, 18.048902377938806, 21.397384054708017, 22.703052561250555, 23.662382156708105, 24.423401760667744, 25.8288235028241, 26.39333047724573, 27.371066491308227, 27.39993738473987, 27.609220019908825, 29.14137272963865, 29.41671532947014, 30.63559090472759, 31.192825552422025, 31.689013833873506, 33.99468265287896, 34.800697828697324, 34.98560252616115, 34.991478140926574, 35.25325429969989, 35.458589924027486, 37.13612138714895, 37.31084569953111, 37.583987302894194, 37.74525269489351, 38.44913954657314, 38.9684206196562, 39.73886550539574, 39.993909183165236, 40.14303821281757, 40.72318273629913, 41.46411357400047, 41.60670118854863, 42.81983591498312, 42.82206130426527, 42.83744957486641, 43.32419572901865, 43.705920782650736, 43.78432107958413, 44.091988971960305, 45.00567393065826, 45.057123453039004, 46.36861011441516, 47.217707632947366, 48.10582947180624, 48.18931543935183, 48.839708790902456, 49.63670473756837, 49.71870159369327, 51.019830909883595, 51.62960145037967, 51.870725777464486, 52.01590630099218, 52.061150474321565, 52.072457426497216, 52.55124795661459, 52.936076850501514, 53.208818080479666, 53.43786495417043, 54.325553886795724, 55.66224641651241, 55.82099520578788, 56.099893263788, 56.11680448614271, 57.039816122760946, 57.26568013108349, 57.34510918319573, 57.73117751419369, 58.98580027854755, 58.99543173662789, 59.917002169183654, 60.051136449582856, 60.27959985599983, 61.06918880114391, 61.086836467948096, 61.72542599073496, 61.87922669439467, 62.507964827794055, 62.51901254898585, 65.57943040950802, 65.67259003884311, 66.84191264423896, 68.07812630125788, 68.09144450524057, 69.41091528638486, 71.12849107772581, 71.64706664647288, 71.97047546825031, 73.74455350407665, 73.78202452132538, 75.7523314365869, 75.89440261607662, 77.75967733227857, 78.25911503894602, 79.02856233032675, 79.14279349401417, 80.29570778341005, 83.72123873815508, 86.59604735583925], \"yaxis\": \"y\"}],                        {\"legend\": {\"tracegroupgap\": 0}, \"margin\": {\"t\": 60}, \"template\": {\"data\": {\"bar\": [{\"error_x\": {\"color\": \"#2a3f5f\"}, \"error_y\": {\"color\": \"#2a3f5f\"}, \"marker\": {\"line\": {\"color\": \"#E5ECF6\", \"width\": 0.5}}, \"type\": \"bar\"}], \"barpolar\": [{\"marker\": {\"line\": {\"color\": \"#E5ECF6\", \"width\": 0.5}}, \"type\": \"barpolar\"}], \"carpet\": [{\"aaxis\": {\"endlinecolor\": \"#2a3f5f\", \"gridcolor\": \"white\", \"linecolor\": \"white\", \"minorgridcolor\": \"white\", \"startlinecolor\": \"#2a3f5f\"}, \"baxis\": {\"endlinecolor\": \"#2a3f5f\", \"gridcolor\": \"white\", \"linecolor\": \"white\", \"minorgridcolor\": \"white\", \"startlinecolor\": \"#2a3f5f\"}, \"type\": \"carpet\"}], \"choropleth\": [{\"colorbar\": {\"outlinewidth\": 0, \"ticks\": \"\"}, \"type\": \"choropleth\"}], \"contour\": [{\"colorbar\": {\"outlinewidth\": 0, \"ticks\": \"\"}, \"colorscale\": [[0.0, \"#0d0887\"], [0.1111111111111111, \"#46039f\"], [0.2222222222222222, \"#7201a8\"], [0.3333333333333333, \"#9c179e\"], [0.4444444444444444, \"#bd3786\"], [0.5555555555555556, \"#d8576b\"], [0.6666666666666666, \"#ed7953\"], [0.7777777777777778, \"#fb9f3a\"], [0.8888888888888888, \"#fdca26\"], [1.0, \"#f0f921\"]], \"type\": \"contour\"}], \"contourcarpet\": [{\"colorbar\": {\"outlinewidth\": 0, \"ticks\": \"\"}, \"type\": \"contourcarpet\"}], \"heatmap\": [{\"colorbar\": {\"outlinewidth\": 0, \"ticks\": \"\"}, \"colorscale\": [[0.0, \"#0d0887\"], [0.1111111111111111, \"#46039f\"], [0.2222222222222222, \"#7201a8\"], [0.3333333333333333, \"#9c179e\"], [0.4444444444444444, \"#bd3786\"], [0.5555555555555556, \"#d8576b\"], [0.6666666666666666, \"#ed7953\"], [0.7777777777777778, \"#fb9f3a\"], [0.8888888888888888, \"#fdca26\"], [1.0, \"#f0f921\"]], \"type\": \"heatmap\"}], \"heatmapgl\": [{\"colorbar\": {\"outlinewidth\": 0, \"ticks\": \"\"}, \"colorscale\": [[0.0, \"#0d0887\"], [0.1111111111111111, \"#46039f\"], [0.2222222222222222, \"#7201a8\"], [0.3333333333333333, \"#9c179e\"], [0.4444444444444444, \"#bd3786\"], [0.5555555555555556, \"#d8576b\"], [0.6666666666666666, \"#ed7953\"], [0.7777777777777778, \"#fb9f3a\"], [0.8888888888888888, \"#fdca26\"], [1.0, \"#f0f921\"]], \"type\": \"heatmapgl\"}], \"histogram\": [{\"marker\": {\"colorbar\": {\"outlinewidth\": 0, \"ticks\": \"\"}}, \"type\": \"histogram\"}], \"histogram2d\": [{\"colorbar\": {\"outlinewidth\": 0, \"ticks\": \"\"}, \"colorscale\": [[0.0, \"#0d0887\"], [0.1111111111111111, \"#46039f\"], [0.2222222222222222, \"#7201a8\"], [0.3333333333333333, \"#9c179e\"], [0.4444444444444444, \"#bd3786\"], [0.5555555555555556, \"#d8576b\"], [0.6666666666666666, \"#ed7953\"], [0.7777777777777778, \"#fb9f3a\"], [0.8888888888888888, \"#fdca26\"], [1.0, \"#f0f921\"]], \"type\": \"histogram2d\"}], \"histogram2dcontour\": [{\"colorbar\": {\"outlinewidth\": 0, \"ticks\": \"\"}, \"colorscale\": [[0.0, \"#0d0887\"], [0.1111111111111111, \"#46039f\"], [0.2222222222222222, \"#7201a8\"], [0.3333333333333333, \"#9c179e\"], [0.4444444444444444, \"#bd3786\"], [0.5555555555555556, \"#d8576b\"], [0.6666666666666666, \"#ed7953\"], [0.7777777777777778, \"#fb9f3a\"], [0.8888888888888888, \"#fdca26\"], [1.0, \"#f0f921\"]], \"type\": \"histogram2dcontour\"}], \"mesh3d\": [{\"colorbar\": {\"outlinewidth\": 0, \"ticks\": \"\"}, \"type\": \"mesh3d\"}], \"parcoords\": [{\"line\": {\"colorbar\": {\"outlinewidth\": 0, \"ticks\": \"\"}}, \"type\": \"parcoords\"}], \"pie\": [{\"automargin\": true, \"type\": \"pie\"}], \"scatter\": [{\"marker\": {\"colorbar\": {\"outlinewidth\": 0, \"ticks\": \"\"}}, \"type\": \"scatter\"}], \"scatter3d\": [{\"line\": {\"colorbar\": {\"outlinewidth\": 0, \"ticks\": \"\"}}, \"marker\": {\"colorbar\": {\"outlinewidth\": 0, \"ticks\": \"\"}}, \"type\": \"scatter3d\"}], \"scattercarpet\": [{\"marker\": {\"colorbar\": {\"outlinewidth\": 0, \"ticks\": \"\"}}, \"type\": \"scattercarpet\"}], \"scattergeo\": [{\"marker\": {\"colorbar\": {\"outlinewidth\": 0, \"ticks\": \"\"}}, \"type\": \"scattergeo\"}], \"scattergl\": [{\"marker\": {\"colorbar\": {\"outlinewidth\": 0, \"ticks\": \"\"}}, \"type\": \"scattergl\"}], \"scattermapbox\": [{\"marker\": {\"colorbar\": {\"outlinewidth\": 0, \"ticks\": \"\"}}, \"type\": \"scattermapbox\"}], \"scatterpolar\": [{\"marker\": {\"colorbar\": {\"outlinewidth\": 0, \"ticks\": \"\"}}, \"type\": \"scatterpolar\"}], \"scatterpolargl\": [{\"marker\": {\"colorbar\": {\"outlinewidth\": 0, \"ticks\": \"\"}}, \"type\": \"scatterpolargl\"}], \"scatterternary\": [{\"marker\": {\"colorbar\": {\"outlinewidth\": 0, \"ticks\": \"\"}}, \"type\": \"scatterternary\"}], \"surface\": [{\"colorbar\": {\"outlinewidth\": 0, \"ticks\": \"\"}, \"colorscale\": [[0.0, \"#0d0887\"], [0.1111111111111111, \"#46039f\"], [0.2222222222222222, \"#7201a8\"], [0.3333333333333333, \"#9c179e\"], [0.4444444444444444, \"#bd3786\"], [0.5555555555555556, \"#d8576b\"], [0.6666666666666666, \"#ed7953\"], [0.7777777777777778, \"#fb9f3a\"], [0.8888888888888888, \"#fdca26\"], [1.0, \"#f0f921\"]], \"type\": \"surface\"}], \"table\": [{\"cells\": {\"fill\": {\"color\": \"#EBF0F8\"}, \"line\": {\"color\": \"white\"}}, \"header\": {\"fill\": {\"color\": \"#C8D4E3\"}, \"line\": {\"color\": \"white\"}}, \"type\": \"table\"}]}, \"layout\": {\"annotationdefaults\": {\"arrowcolor\": \"#2a3f5f\", \"arrowhead\": 0, \"arrowwidth\": 1}, \"autotypenumbers\": \"strict\", \"coloraxis\": {\"colorbar\": {\"outlinewidth\": 0, \"ticks\": \"\"}}, \"colorscale\": {\"diverging\": [[0, \"#8e0152\"], [0.1, \"#c51b7d\"], [0.2, \"#de77ae\"], [0.3, \"#f1b6da\"], [0.4, \"#fde0ef\"], [0.5, \"#f7f7f7\"], [0.6, \"#e6f5d0\"], [0.7, \"#b8e186\"], [0.8, \"#7fbc41\"], [0.9, \"#4d9221\"], [1, \"#276419\"]], \"sequential\": [[0.0, \"#0d0887\"], [0.1111111111111111, \"#46039f\"], [0.2222222222222222, \"#7201a8\"], [0.3333333333333333, \"#9c179e\"], [0.4444444444444444, \"#bd3786\"], [0.5555555555555556, \"#d8576b\"], [0.6666666666666666, \"#ed7953\"], [0.7777777777777778, \"#fb9f3a\"], [0.8888888888888888, \"#fdca26\"], [1.0, \"#f0f921\"]], \"sequentialminus\": [[0.0, \"#0d0887\"], [0.1111111111111111, \"#46039f\"], [0.2222222222222222, \"#7201a8\"], [0.3333333333333333, \"#9c179e\"], [0.4444444444444444, \"#bd3786\"], [0.5555555555555556, \"#d8576b\"], [0.6666666666666666, \"#ed7953\"], [0.7777777777777778, \"#fb9f3a\"], [0.8888888888888888, \"#fdca26\"], [1.0, \"#f0f921\"]]}, \"colorway\": [\"#636efa\", \"#EF553B\", \"#00cc96\", \"#ab63fa\", \"#FFA15A\", \"#19d3f3\", \"#FF6692\", \"#B6E880\", \"#FF97FF\", \"#FECB52\"], \"font\": {\"color\": \"#2a3f5f\"}, \"geo\": {\"bgcolor\": \"white\", \"lakecolor\": \"white\", \"landcolor\": \"#E5ECF6\", \"showlakes\": true, \"showland\": true, \"subunitcolor\": \"white\"}, \"hoverlabel\": {\"align\": \"left\"}, \"hovermode\": \"closest\", \"mapbox\": {\"style\": \"light\"}, \"paper_bgcolor\": \"white\", \"plot_bgcolor\": \"#E5ECF6\", \"polar\": {\"angularaxis\": {\"gridcolor\": \"white\", \"linecolor\": \"white\", \"ticks\": \"\"}, \"bgcolor\": \"#E5ECF6\", \"radialaxis\": {\"gridcolor\": \"white\", \"linecolor\": \"white\", \"ticks\": \"\"}}, \"scene\": {\"xaxis\": {\"backgroundcolor\": \"#E5ECF6\", \"gridcolor\": \"white\", \"gridwidth\": 2, \"linecolor\": \"white\", \"showbackground\": true, \"ticks\": \"\", \"zerolinecolor\": \"white\"}, \"yaxis\": {\"backgroundcolor\": \"#E5ECF6\", \"gridcolor\": \"white\", \"gridwidth\": 2, \"linecolor\": \"white\", \"showbackground\": true, \"ticks\": \"\", \"zerolinecolor\": \"white\"}, \"zaxis\": {\"backgroundcolor\": \"#E5ECF6\", \"gridcolor\": \"white\", \"gridwidth\": 2, \"linecolor\": \"white\", \"showbackground\": true, \"ticks\": \"\", \"zerolinecolor\": \"white\"}}, \"shapedefaults\": {\"line\": {\"color\": \"#2a3f5f\"}}, \"ternary\": {\"aaxis\": {\"gridcolor\": \"white\", \"linecolor\": \"white\", \"ticks\": \"\"}, \"baxis\": {\"gridcolor\": \"white\", \"linecolor\": \"white\", \"ticks\": \"\"}, \"bgcolor\": \"#E5ECF6\", \"caxis\": {\"gridcolor\": \"white\", \"linecolor\": \"white\", \"ticks\": \"\"}}, \"title\": {\"x\": 0.05}, \"xaxis\": {\"automargin\": true, \"gridcolor\": \"white\", \"linecolor\": \"white\", \"ticks\": \"\", \"title\": {\"standoff\": 15}, \"zerolinecolor\": \"white\", \"zerolinewidth\": 2}, \"yaxis\": {\"automargin\": true, \"gridcolor\": \"white\", \"linecolor\": \"white\", \"ticks\": \"\", \"title\": {\"standoff\": 15}, \"zerolinecolor\": \"white\", \"zerolinewidth\": 2}}}, \"xaxis\": {\"anchor\": \"y\", \"domain\": [0.0, 1.0], \"title\": {\"text\": \"x\"}}, \"yaxis\": {\"anchor\": \"x\", \"domain\": [0.0, 1.0], \"title\": {\"text\": \"y\"}}},                        {\"responsive\": true}                    ).then(function(){\n",
       "                            \n",
       "var gd = document.getElementById('2c8e8544-0864-4f33-928c-baa542725a2f');\n",
       "var x = new MutationObserver(function (mutations, observer) {{\n",
       "        var display = window.getComputedStyle(gd).display;\n",
       "        if (!display || display === 'none') {{\n",
       "            console.log([gd, 'removed!']);\n",
       "            Plotly.purge(gd);\n",
       "            observer.disconnect();\n",
       "        }}\n",
       "}});\n",
       "\n",
       "// Listen for the removal of the full notebook cells\n",
       "var notebookContainer = gd.closest('#notebook-container');\n",
       "if (notebookContainer) {{\n",
       "    x.observe(notebookContainer, {childList: true});\n",
       "}}\n",
       "\n",
       "// Listen for the clearing of the current output cell\n",
       "var outputEl = gd.closest('.output');\n",
       "if (outputEl) {{\n",
       "    x.observe(outputEl, {childList: true});\n",
       "}}\n",
       "\n",
       "                        })                };                });            </script>        </div>"
      ]
     },
     "metadata": {},
     "output_type": "display_data"
    }
   ],
   "source": [
    "fig = px.scatter(\n",
    "    x=agent_attr_list, y=chosen_attr_list, opacity=0.65,\n",
    "    trendline='ols', trendline_color_override='darkblue'\n",
    ")\n",
    "fig.show()"
   ]
  },
  {
   "cell_type": "code",
   "execution_count": null,
   "metadata": {},
   "outputs": [],
   "source": []
  },
  {
   "cell_type": "code",
   "execution_count": 14,
   "metadata": {
    "scrolled": false
   },
   "outputs": [
    {
     "name": "stdout",
     "output_type": "stream",
     "text": [
      "15.939094619962596\n"
     ]
    },
    {
     "data": {
      "image/png": "[encoded data removed]",
      "text/plain": [
       "<Figure size 360x360 with 1 Axes>"
      ]
     },
     "metadata": {
      "needs_background": "light"
     },
     "output_type": "display_data"
    }
   ],
   "source": [
    "lst = []\n",
    "for i in range(10000):\n",
    "    lst.append(np.random.randn()*16+50)\n",
    "sns.displot(lst)\n",
    "print(np.std(lst))"
   ]
  },
  {
   "cell_type": "code",
   "execution_count": 15,
   "metadata": {
    "scrolled": false
   },
   "outputs": [
    {
     "data": {
      "text/plain": [
       "<seaborn.axisgrid.FacetGrid at 0x7ffbb81f8d00>"
      ]
     },
     "execution_count": 15,
     "metadata": {},
     "output_type": "execute_result"
    },
    {
     "data": {
      "image/png": "[encoded data removed]",
      "text/plain": [
       "<Figure size 360x360 with 1 Axes>"
      ]
     },
     "metadata": {
      "needs_background": "light"
     },
     "output_type": "display_data"
    }
   ],
   "source": [
    "lst = []\n",
    "for i in range(1000):\n",
    "    lst.append(np.random.rand()*100)\n",
    "sns.displot(lst)"
   ]
  },
  {
   "cell_type": "code",
   "execution_count": 16,
   "metadata": {
    "scrolled": false
   },
   "outputs": [
    {
     "data": {
      "text/plain": [
       "<seaborn.axisgrid.FacetGrid at 0x7ffba9dc3b20>"
      ]
     },
     "execution_count": 16,
     "metadata": {},
     "output_type": "execute_result"
    },
    {
     "data": {
      "image/png": "[encoded data removed]",
      "text/plain": [
       "<Figure size 360x360 with 1 Axes>"
      ]
     },
     "metadata": {
      "needs_background": "light"
     },
     "output_type": "display_data"
    }
   ],
   "source": [
    "lst = []\n",
    "for i in range(1000):\n",
    "    lst.append(np.random.randint(100))\n",
    "sns.displot(lst)"
   ]
  },
  {
   "cell_type": "code",
   "execution_count": null,
   "metadata": {},
   "outputs": [],
   "source": []
  }
 ],
 "metadata": {
  "kernelspec": {
   "display_name": "Python 3",
   "language": "python",
   "name": "python3"
  },
  "language_info": {
   "codemirror_mode": {
    "name": "ipython",
    "version": 3
   },
   "file_extension": ".py",
   "mimetype": "text/x-python",
   "name": "python",
   "nbconvert_exporter": "python",
   "pygments_lexer": "ipython3",
   "version": "3.8.5"
  }
 },
 "nbformat": 4,
 "nbformat_minor": 4
}
